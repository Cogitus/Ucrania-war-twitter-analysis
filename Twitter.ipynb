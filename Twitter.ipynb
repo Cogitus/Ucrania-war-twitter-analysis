{
  "nbformat": 4,
  "nbformat_minor": 0,
  "metadata": {
    "kernelspec": {
      "display_name": "Python 3",
      "language": "python",
      "name": "python3"
    },
    "language_info": {
      "codemirror_mode": {
        "name": "ipython",
        "version": 3
      },
      "file_extension": ".py",
      "mimetype": "text/x-python",
      "name": "python",
      "nbconvert_exporter": "python",
      "pygments_lexer": "ipython3",
      "version": "3.6.5"
    },
    "colab": {
      "name": "Twitter.ipynb",
      "provenance": [],
      "collapsed_sections": [
        "j9MqfvGta3vB",
        "bfRbfgUVvS2D",
        "LwU9t4eWvS2G",
        "m0zcjTTtqKfV",
        "I5txahzgqsF1",
        "gLdgve_dvS2H",
        "if3Q37olvS2H",
        "fd1_TCcfryPE",
        "-Xae28h1vS2H",
        "E6kCRyxHvS2H",
        "lVFp47K1sMtp",
        "HeopeYu0sb5f",
        "Uf3jf8_gvS2I",
        "Pi0V0v_4vS2I"
      ]
    }
  },
  "cells": [
    {
      "cell_type": "markdown",
      "metadata": {
        "id": "k-9oxa31vS19"
      },
      "source": [
        "# 1.0 Introduction\n"
      ]
    },
    {
      "cell_type": "markdown",
      "metadata": {
        "id": "XCgctKyCKJAd"
      },
      "source": [
        "\n",
        "In this lesson, we use Twitter data to create and explore directed networks of social interactions. For this lesson, we'll be using a developer workflow where we assume you have access to an app's API key and secret (see the slides).\n",
        "\n",
        "\n",
        "Contents:\n",
        "\n",
        "1. Introduction\n",
        "2. Authenticating with Twitter's API\n",
        "2. Twitter API basics\n",
        "3. Using Twitter's search API to get tweets of interest\n",
        "4. Creating social network graphs\n",
        "5. Twitter retweet network\n",
        "6. Twitter mention network\n",
        "\n",
        "***Copyright:*** *Parts of the contents of this Colab Notebook, unless otherwise indicated, are Copyright 2020 Filippo Menczer, Santo Fortunato and Clayton A. Davis, [A First Course in Network Science](https://github.com/CambridgeUniversityPress/FirstCourseNetworkScience). All rights reserved.* \n",
        "\n",
        "***References***: getting started with the Twitter API v2 for academic research [here](https://github.com/twitterdev/getting-started-with-the-twitter-api-v2-for-academic-research). "
      ]
    },
    {
      "cell_type": "markdown",
      "metadata": {
        "id": "4Quw1KPPKY4Q"
      },
      "source": [
        "\n",
        "# 2.0 Authenticating with Twitter's API\n"
      ]
    },
    {
      "cell_type": "markdown",
      "metadata": {
        "id": "Rwde_oFGKa6t"
      },
      "source": [
        "\n",
        "Twitter uses OAuth in order to allow third-party apps to access data on your behalf without requiring your Twitter login credentials -- note that none of the code in this notebook asks for your Twitter screen name or password.\n",
        "\n",
        "The OAuth \"dance\" can be intimidating when you first use it, but it provides a far more secure way for software to make requests on your behalf than providing your username and password.\n",
        "\n",
        "We'll make use of the\n",
        "[Twython](https://twython.readthedocs.io/en/latest/usage/starting_out.html#authentication)\n",
        "package to help us with authentication and querying Twitter's APIs."
      ]
    },
    {
      "cell_type": "code",
      "metadata": {
        "id": "nbJfX--XviL-",
        "colab": {
          "base_uri": "https://localhost:8080/"
        },
        "outputId": "a019acc8-7685-463f-bfb2-790f04d2b055"
      },
      "source": [
        "!pip install Twython"
      ],
      "execution_count": null,
      "outputs": [
        {
          "output_type": "stream",
          "name": "stdout",
          "text": [
            "Collecting Twython\n",
            "  Downloading twython-3.9.1-py3-none-any.whl (33 kB)\n",
            "Requirement already satisfied: requests-oauthlib>=0.4.0 in /usr/local/lib/python3.7/dist-packages (from Twython) (1.3.1)\n",
            "Requirement already satisfied: requests>=2.1.0 in /usr/local/lib/python3.7/dist-packages (from Twython) (2.23.0)\n",
            "Requirement already satisfied: chardet<4,>=3.0.2 in /usr/local/lib/python3.7/dist-packages (from requests>=2.1.0->Twython) (3.0.4)\n",
            "Requirement already satisfied: certifi>=2017.4.17 in /usr/local/lib/python3.7/dist-packages (from requests>=2.1.0->Twython) (2021.10.8)\n",
            "Requirement already satisfied: idna<3,>=2.5 in /usr/local/lib/python3.7/dist-packages (from requests>=2.1.0->Twython) (2.10)\n",
            "Requirement already satisfied: urllib3!=1.25.0,!=1.25.1,<1.26,>=1.21.1 in /usr/local/lib/python3.7/dist-packages (from requests>=2.1.0->Twython) (1.24.3)\n",
            "Requirement already satisfied: oauthlib>=3.0.0 in /usr/local/lib/python3.7/dist-packages (from requests-oauthlib>=0.4.0->Twython) (3.2.0)\n",
            "Installing collected packages: Twython\n",
            "Successfully installed Twython-3.9.1\n"
          ]
        }
      ]
    },
    {
      "cell_type": "code",
      "metadata": {
        "id": "CthaJaXTvS1_"
      },
      "source": [
        "from twython import Twython, TwythonError"
      ],
      "execution_count": null,
      "outputs": []
    },
    {
      "cell_type": "code",
      "source": [
        "!echo \"2VyWcutdoqACanCR41CYAKJuq\" >> keys.txt\n",
        "!echo \"gUHiJHdjANCUXOpPI5zKc7t9Wukbe817hxPWW1CcGDMzPnpMmX\" >> keys.txt"
      ],
      "metadata": {
        "id": "OLhRVqd-4Y3v"
      },
      "execution_count": null,
      "outputs": []
    },
    {
      "cell_type": "code",
      "source": [
        "!ls\n",
        "!cat keys.txt"
      ],
      "metadata": {
        "colab": {
          "base_uri": "https://localhost:8080/"
        },
        "id": "ECyqyKZR5OS_",
        "outputId": "4b4ca2c7-a24d-43d9-d0e7-f1aab87b88be"
      },
      "execution_count": null,
      "outputs": [
        {
          "output_type": "stream",
          "name": "stdout",
          "text": [
            "keys.txt  sample_data\n",
            "2VyWcutdoqACanCR41CYAKJuq\n",
            "gUHiJHdjANCUXOpPI5zKc7t9Wukbe817hxPWW1CcGDMzPnpMmX\n"
          ]
        }
      ]
    },
    {
      "cell_type": "markdown",
      "metadata": {
        "id": "S6QBuOCNvS1_"
      },
      "source": [
        "\n",
        "## 2.1 Enter app info and get auth URL\n"
      ]
    },
    {
      "cell_type": "markdown",
      "metadata": {
        "id": "CE7PcDtBX6Hz"
      },
      "source": [
        "\n",
        "In order to authenticate with Twitter, we'll provide the app details and  ask for a one-time authorization URL to authenticate your user with this app.\n",
        "\n",
        "Copy and paste the API key and secret from your Twitter app into a file named <font color=\"red\">keys.txt</font>. The first line is the API_KEY and the second line of the file is API_SECRET_KEY. For example, a template for the <font color=\"red\">keys.txt</font>: \n",
        "\n",
        "```python\n",
        "df6cf09894907b92f3ea749ef\n",
        "d19c40cbb184f72055c806f107b5158d023a43eb7d8921a0d0\n",
        "```"
      ]
    },
    {
      "cell_type": "code",
      "metadata": {
        "id": "lmkWjh8PU_yW"
      },
      "source": [
        "# open the keys file\n",
        "my_file = open(\"keys.txt\", \"r\")\n",
        "# read the raw data\n",
        "content = my_file.read()\n",
        "# split all lines by  newline character\n",
        "API_KEY, API_SECRET_KEY = content.split()\n",
        "# close the file\n",
        "my_file.close()"
      ],
      "execution_count": null,
      "outputs": []
    },
    {
      "cell_type": "markdown",
      "metadata": {
        "id": "Ir_nhr6HV3Es"
      },
      "source": [
        "Executing the cell should then print out a clickable URL. This link is unique and will work **exactly** once. <font color=\"red\"> Visit this URL, log into Twitter, and then copy the verifier pin that is given to you so as to paste it in the next step</font>."
      ]
    },
    {
      "cell_type": "code",
      "metadata": {
        "id": "2jJCE5A1vS2A",
        "colab": {
          "base_uri": "https://localhost:8080/"
        },
        "outputId": "be7ff212-508d-4529-c64d-1d4489612564"
      },
      "source": [
        "twitter = Twython(API_KEY, API_SECRET_KEY)\n",
        "\n",
        "authentication_tokens = twitter.get_authentication_tokens()\n",
        "print(authentication_tokens['auth_url'])"
      ],
      "execution_count": null,
      "outputs": [
        {
          "output_type": "stream",
          "name": "stdout",
          "text": [
            "https://api.twitter.com/oauth/authenticate?oauth_token=xALSUAAAAAABZIPPAAABfwq410Y\n"
          ]
        }
      ]
    },
    {
      "cell_type": "markdown",
      "metadata": {
        "id": "LAPHhovGvS2B"
      },
      "source": [
        "## 2.2 Authorize app using verifier PIN\n"
      ]
    },
    {
      "cell_type": "markdown",
      "metadata": {
        "id": "hGpriOZJX4Us"
      },
      "source": [
        "\n",
        "That verifier PIN goes into the next cell. This will be different every time you run these steps. The `authentication_tokens` include temporary tokens that go with this verifier PIN; by submitting these together, we show Twitter that we are who we say we are."
      ]
    },
    {
      "cell_type": "code",
      "metadata": {
        "id": "OI9MjTs_vS2B"
      },
      "source": [
        "# Replace the verifier with the pin number obtained with your web browser in the previous step\n",
        "VERIFIER = '1858100'\n",
        "\n",
        "twitter = Twython(API_KEY, API_SECRET_KEY,\n",
        "                  authentication_tokens['oauth_token'],\n",
        "                  authentication_tokens['oauth_token_secret'])\n",
        "\n",
        "authorized_tokens = twitter.get_authorized_tokens(VERIFIER)"
      ],
      "execution_count": null,
      "outputs": []
    },
    {
      "cell_type": "markdown",
      "metadata": {
        "id": "tiDiGGx5X0w-"
      },
      "source": [
        "\n",
        "## 2.3 Use authorized tokens\n"
      ]
    },
    {
      "cell_type": "markdown",
      "metadata": {
        "id": "JWwkYGtMX3Fq"
      },
      "source": [
        "\n",
        "Now we have a permanent token pair that we can use to make authenticated calls to the Twitter API. We'll create a new Twython object using these authenticated keys and verify the credentials of the logged-in user."
      ]
    },
    {
      "cell_type": "code",
      "metadata": {
        "id": "m7n_kesWvS2C"
      },
      "source": [
        "twitter = Twython(API_KEY, API_SECRET_KEY,\n",
        "                  authorized_tokens['oauth_token'],\n",
        "                  authorized_tokens['oauth_token_secret'])\n",
        "\n",
        "twitter.verify_credentials()"
      ],
      "execution_count": null,
      "outputs": []
    },
    {
      "cell_type": "markdown",
      "metadata": {
        "id": "NlWjJc2KvS2C"
      },
      "source": [
        "If the previous cell ran without error and printed out a dict corresponding to a\n",
        "[Twitter User](https://developer.twitter.com/en/docs/tweets/data-dictionary/overview/user-object),\n",
        "then you're good. The authorized token pair is like a username/password and should be protected as such.\n"
      ]
    },
    {
      "cell_type": "markdown",
      "metadata": {
        "id": "C9TvfnjVZGqT"
      },
      "source": [
        "\n",
        "# 3.0 Twitter API basics\n"
      ]
    },
    {
      "cell_type": "markdown",
      "metadata": {
        "id": "vyDIq3XhZIw8"
      },
      "source": [
        "\n",
        "In this lesson, we'll be dealing with two different types of data, Users and Tweets.\n",
        "\n"
      ]
    },
    {
      "cell_type": "markdown",
      "metadata": {
        "id": "Kf2kIJxiZX9k"
      },
      "source": [
        "\n",
        "## 3.1 User objects\n"
      ]
    },
    {
      "cell_type": "markdown",
      "metadata": {
        "id": "hjWcQh4Kof9i"
      },
      "source": [
        "\n",
        "We've already seen one\n",
        "[User Object](https://developer.twitter.com/en/docs/tweets/data-dictionary/overview/user-object),\n",
        "the one corresponding to the logged-in user, via the call to  `verify_credentials()` above. We can also fetch data for an arbitrary user:"
      ]
    },
    {
      "cell_type": "code",
      "metadata": {
        "scrolled": true,
        "id": "eORSfYDYvS2C"
      },
      "source": [
        "# fetch data from UFRN's user\n",
        "user = twitter.show_user(screen_name='ufrnbr')\n",
        "user"
      ],
      "execution_count": null,
      "outputs": []
    },
    {
      "cell_type": "markdown",
      "metadata": {
        "id": "6bZGsUqAvS2D"
      },
      "source": [
        "This dictionary of user data contains several items of note. First, the screen name of the user, while obvious in this case, is very useful later:"
      ]
    },
    {
      "cell_type": "code",
      "metadata": {
        "id": "I-rDar0gvS2D"
      },
      "source": [
        "user['screen_name']"
      ],
      "execution_count": null,
      "outputs": []
    },
    {
      "cell_type": "markdown",
      "metadata": {
        "id": "VdiJ1tgFvS2D"
      },
      "source": [
        "The user data also contains information such as the number of followers, friends (other users followerd by this user), and tweets (called `'statuses'` in the API):"
      ]
    },
    {
      "cell_type": "code",
      "metadata": {
        "id": "OxN-pWzqvS2D"
      },
      "source": [
        "print(\"\"\"\n",
        "Twitter user @{screen_name}\n",
        "has {followers_count} followers,\n",
        "follows {friends_count} users,\n",
        "and has tweeted {statuses_count} times.\n",
        "\"\"\".format(**user))"
      ],
      "execution_count": null,
      "outputs": []
    },
    {
      "cell_type": "markdown",
      "metadata": {
        "id": "j9MqfvGta3vB"
      },
      "source": [
        "### 3.1.1 Playing with followeres with Twython"
      ]
    },
    {
      "cell_type": "markdown",
      "metadata": {
        "id": "wV058wO6a-IJ"
      },
      "source": [
        "It doesn’t need to be said that **Followers** are, and should be, the driving force behind your social success on Twitter. You need to make your **Followers** feel special for Following you. And you need to get as much information about them as possible, so you can analyse your follower demographics for further analysis and targeting. So you can find out exactly how you can make them feel even more special! And feel that following you is worthwhile….\n",
        "\n",
        "But before you can do any of that, <font color=\"red\"> you first need to get some idea of who your followers are</font>. So let’s start on the basics!\n",
        "\n",
        "- GET followers/list [documentation](https://developer.twitter.com/en/docs/twitter-api/v1/accounts-and-users/follow-search-get-users/api-reference/get-followers-list)."
      ]
    },
    {
      "cell_type": "code",
      "metadata": {
        "id": "beVln6pwglzQ"
      },
      "source": [
        "# there are some rate limitations in order to use the Twitter API\n",
        "# you can see the current limits calling get_applicaiton_rate_limit_status()\n",
        "twitter.get_application_rate_limit_status()['resources']"
      ],
      "execution_count": null,
      "outputs": []
    },
    {
      "cell_type": "code",
      "metadata": {
        "id": "S6imgaLhikcR"
      },
      "source": [
        "# current limits to followers/list endpoint\n",
        "twitter.get_application_rate_limit_status()['resources']['followers']"
      ],
      "execution_count": null,
      "outputs": []
    },
    {
      "cell_type": "code",
      "metadata": {
        "id": "dl-eAKkXiyNp",
        "colab": {
          "base_uri": "https://localhost:8080/"
        },
        "outputId": "d3b9c23c-84df-4c72-fb08-b11e67341544"
      },
      "source": [
        "# During the writing of this notebook UFRN twitter user has\n",
        "# 15507 followers. So, at maximum is possible to retrieve 200 x 15 followers in just a call.\n",
        "# Thus, considering only 15 calls are allowed during a window of 15 min\n",
        "# it will be necessary at least 6 calls to collect all UFRN followers\n",
        "# 6 calls x 15min = 90min!!!!\n",
        "import math\n",
        "math.ceil(15507/(200 * 15))"
      ],
      "execution_count": null,
      "outputs": [
        {
          "output_type": "execute_result",
          "data": {
            "text/plain": [
              "6"
            ]
          },
          "metadata": {},
          "execution_count": 14
        }
      ]
    },
    {
      "cell_type": "code",
      "metadata": {
        "id": "WYBR0j6ocZBL"
      },
      "source": [
        "import datetime\n",
        "import pandas as pd\n",
        "\n",
        "# We need to create empty lists for each of those user characteristics\n",
        "names = []\n",
        "usernames = []\n",
        "ids = []\n",
        "locations = []\n",
        "follower_count = []\n",
        "\n",
        "# Getting today's date\n",
        "datestamp = datetime.datetime.now().strftime(\"%Y-%m-%d\")\n",
        "\n",
        "# Asking for the username to get their followers\n",
        "username = 'ufrnbr'\n",
        "\n",
        "# This is to go through paginated results\n",
        "next_cursor = -1"
      ],
      "execution_count": null,
      "outputs": []
    },
    {
      "cell_type": "code",
      "metadata": {
        "id": "ZDtQG_PshNxO"
      },
      "source": [
        "# Let's try 10 calls (limit is 15), 200 x 10 = 2000 followers\n",
        "for i in range(10):\n",
        "  # Getting the user's followers (should all be 1 line)\n",
        "  # Note that are rate limited in API, see the documentation above.\n",
        "  get_followers = twitter.get_followers_list(screen_name=username,\n",
        "                                             count=200,\n",
        "                                             cursor=next_cursor)\n",
        "  # For each user returned from our get_followers\n",
        "  for follower in get_followers[\"users\"]:\n",
        "      names.append(follower[\"name\"])\n",
        "      usernames.append(follower[\"screen_name\"])\n",
        "      ids.append(follower[\"id\"])\n",
        "      locations.append(follower[\"location\"])\n",
        "      follower_count.append(follower[\"followers_count\"])\n",
        "  # next cursor\n",
        "  next_cursor = get_followers[\"next_cursor\"]"
      ],
      "execution_count": null,
      "outputs": []
    },
    {
      "cell_type": "code",
      "metadata": {
        "id": "d2246_0TLRUY",
        "colab": {
          "base_uri": "https://localhost:8080/"
        },
        "outputId": "59c1c10e-6869-46bd-8293-2371b98d4962"
      },
      "source": [
        "# for the sake of understanding check again\n",
        "# current limits to followers/list endpoint\n",
        "twitter.get_application_rate_limit_status()['resources']['followers']"
      ],
      "execution_count": null,
      "outputs": [
        {
          "output_type": "execute_result",
          "data": {
            "text/plain": [
              "{'/followers/ids': {'limit': 15, 'remaining': 15, 'reset': 1645115974},\n",
              " '/followers/list': {'limit': 15, 'remaining': 5, 'reset': 1645115949}}"
            ]
          },
          "metadata": {},
          "execution_count": 18
        }
      ]
    },
    {
      "cell_type": "code",
      "metadata": {
        "id": "sBS3O5KZycOv",
        "colab": {
          "base_uri": "https://localhost:8080/",
          "height": 206
        },
        "outputId": "d0b6f119-1e7c-4f09-9e16-829a66b50ad3"
      },
      "source": [
        "# create a dataframe using ufrn's followers\n",
        "df = pd.DataFrame.from_dict({\"display_name\": names,\n",
        "                             \"username\": usernames,\n",
        "                             \"user_id\": ids,\n",
        "                             \"location\": locations,\n",
        "                             \"followers_count\": follower_count})\n",
        "\n",
        "# check the dataframe\n",
        "df.head()"
      ],
      "execution_count": null,
      "outputs": [
        {
          "output_type": "execute_result",
          "data": {
            "text/html": [
              "\n",
              "  <div id=\"df-530accdd-a258-4b87-bbb5-b0814af35339\">\n",
              "    <div class=\"colab-df-container\">\n",
              "      <div>\n",
              "<style scoped>\n",
              "    .dataframe tbody tr th:only-of-type {\n",
              "        vertical-align: middle;\n",
              "    }\n",
              "\n",
              "    .dataframe tbody tr th {\n",
              "        vertical-align: top;\n",
              "    }\n",
              "\n",
              "    .dataframe thead th {\n",
              "        text-align: right;\n",
              "    }\n",
              "</style>\n",
              "<table border=\"1\" class=\"dataframe\">\n",
              "  <thead>\n",
              "    <tr style=\"text-align: right;\">\n",
              "      <th></th>\n",
              "      <th>display_name</th>\n",
              "      <th>username</th>\n",
              "      <th>user_id</th>\n",
              "      <th>location</th>\n",
              "      <th>followers_count</th>\n",
              "    </tr>\n",
              "  </thead>\n",
              "  <tbody>\n",
              "    <tr>\n",
              "      <th>0</th>\n",
              "      <td>m a r i a</td>\n",
              "      <td>Elisss79</td>\n",
              "      <td>1201411198639640576</td>\n",
              "      <td></td>\n",
              "      <td>174</td>\n",
              "    </tr>\n",
              "    <tr>\n",
              "      <th>1</th>\n",
              "      <td>Adriano Dantas</td>\n",
              "      <td>AdrianoD2021</td>\n",
              "      <td>1474093801153118208</td>\n",
              "      <td></td>\n",
              "      <td>0</td>\n",
              "    </tr>\n",
              "    <tr>\n",
              "      <th>2</th>\n",
              "      <td>Henderson, o Enzo 🦉</td>\n",
              "      <td>enzowikner</td>\n",
              "      <td>1021907880394539008</td>\n",
              "      <td>Mossoró, Brasil</td>\n",
              "      <td>62</td>\n",
              "    </tr>\n",
              "    <tr>\n",
              "      <th>3</th>\n",
              "      <td>💚 via 🧡</td>\n",
              "      <td>noomzvil</td>\n",
              "      <td>4636579756</td>\n",
              "      <td>bkdk canon</td>\n",
              "      <td>191</td>\n",
              "    </tr>\n",
              "    <tr>\n",
              "      <th>4</th>\n",
              "      <td>bel - isassw</td>\n",
              "      <td>sswbel</td>\n",
              "      <td>1330307293007798276</td>\n",
              "      <td></td>\n",
              "      <td>167</td>\n",
              "    </tr>\n",
              "  </tbody>\n",
              "</table>\n",
              "</div>\n",
              "      <button class=\"colab-df-convert\" onclick=\"convertToInteractive('df-530accdd-a258-4b87-bbb5-b0814af35339')\"\n",
              "              title=\"Convert this dataframe to an interactive table.\"\n",
              "              style=\"display:none;\">\n",
              "        \n",
              "  <svg xmlns=\"http://www.w3.org/2000/svg\" height=\"24px\"viewBox=\"0 0 24 24\"\n",
              "       width=\"24px\">\n",
              "    <path d=\"M0 0h24v24H0V0z\" fill=\"none\"/>\n",
              "    <path d=\"M18.56 5.44l.94 2.06.94-2.06 2.06-.94-2.06-.94-.94-2.06-.94 2.06-2.06.94zm-11 1L8.5 8.5l.94-2.06 2.06-.94-2.06-.94L8.5 2.5l-.94 2.06-2.06.94zm10 10l.94 2.06.94-2.06 2.06-.94-2.06-.94-.94-2.06-.94 2.06-2.06.94z\"/><path d=\"M17.41 7.96l-1.37-1.37c-.4-.4-.92-.59-1.43-.59-.52 0-1.04.2-1.43.59L10.3 9.45l-7.72 7.72c-.78.78-.78 2.05 0 2.83L4 21.41c.39.39.9.59 1.41.59.51 0 1.02-.2 1.41-.59l7.78-7.78 2.81-2.81c.8-.78.8-2.07 0-2.86zM5.41 20L4 18.59l7.72-7.72 1.47 1.35L5.41 20z\"/>\n",
              "  </svg>\n",
              "      </button>\n",
              "      \n",
              "  <style>\n",
              "    .colab-df-container {\n",
              "      display:flex;\n",
              "      flex-wrap:wrap;\n",
              "      gap: 12px;\n",
              "    }\n",
              "\n",
              "    .colab-df-convert {\n",
              "      background-color: #E8F0FE;\n",
              "      border: none;\n",
              "      border-radius: 50%;\n",
              "      cursor: pointer;\n",
              "      display: none;\n",
              "      fill: #1967D2;\n",
              "      height: 32px;\n",
              "      padding: 0 0 0 0;\n",
              "      width: 32px;\n",
              "    }\n",
              "\n",
              "    .colab-df-convert:hover {\n",
              "      background-color: #E2EBFA;\n",
              "      box-shadow: 0px 1px 2px rgba(60, 64, 67, 0.3), 0px 1px 3px 1px rgba(60, 64, 67, 0.15);\n",
              "      fill: #174EA6;\n",
              "    }\n",
              "\n",
              "    [theme=dark] .colab-df-convert {\n",
              "      background-color: #3B4455;\n",
              "      fill: #D2E3FC;\n",
              "    }\n",
              "\n",
              "    [theme=dark] .colab-df-convert:hover {\n",
              "      background-color: #434B5C;\n",
              "      box-shadow: 0px 1px 3px 1px rgba(0, 0, 0, 0.15);\n",
              "      filter: drop-shadow(0px 1px 2px rgba(0, 0, 0, 0.3));\n",
              "      fill: #FFFFFF;\n",
              "    }\n",
              "  </style>\n",
              "\n",
              "      <script>\n",
              "        const buttonEl =\n",
              "          document.querySelector('#df-530accdd-a258-4b87-bbb5-b0814af35339 button.colab-df-convert');\n",
              "        buttonEl.style.display =\n",
              "          google.colab.kernel.accessAllowed ? 'block' : 'none';\n",
              "\n",
              "        async function convertToInteractive(key) {\n",
              "          const element = document.querySelector('#df-530accdd-a258-4b87-bbb5-b0814af35339');\n",
              "          const dataTable =\n",
              "            await google.colab.kernel.invokeFunction('convertToInteractive',\n",
              "                                                     [key], {});\n",
              "          if (!dataTable) return;\n",
              "\n",
              "          const docLinkHtml = 'Like what you see? Visit the ' +\n",
              "            '<a target=\"_blank\" href=https://colab.research.google.com/notebooks/data_table.ipynb>data table notebook</a>'\n",
              "            + ' to learn more about interactive tables.';\n",
              "          element.innerHTML = '';\n",
              "          dataTable['output_type'] = 'display_data';\n",
              "          await google.colab.output.renderOutput(dataTable, element);\n",
              "          const docLink = document.createElement('div');\n",
              "          docLink.innerHTML = docLinkHtml;\n",
              "          element.appendChild(docLink);\n",
              "        }\n",
              "      </script>\n",
              "    </div>\n",
              "  </div>\n",
              "  "
            ],
            "text/plain": [
              "          display_name      username  ...         location followers_count\n",
              "0            m a r i a      Elisss79  ...                              174\n",
              "1       Adriano Dantas  AdrianoD2021  ...                                0\n",
              "2  Henderson, o Enzo 🦉    enzowikner  ...  Mossoró, Brasil              62\n",
              "3              💚 via 🧡      noomzvil  ...       bkdk canon             191\n",
              "4         bel - isassw        sswbel  ...                              167\n",
              "\n",
              "[5 rows x 5 columns]"
            ]
          },
          "metadata": {},
          "execution_count": 17
        }
      ]
    },
    {
      "cell_type": "code",
      "metadata": {
        "id": "fh3deLHGy-IS"
      },
      "source": [
        "# save to a csv file\n",
        "df.to_csv(username+\"-\"+datestamp+\".csv\")"
      ],
      "execution_count": null,
      "outputs": []
    },
    {
      "cell_type": "markdown",
      "metadata": {
        "id": "bfRbfgUVvS2D"
      },
      "source": [
        "## 3.2 Tweet Objects\n"
      ]
    },
    {
      "cell_type": "markdown",
      "metadata": {
        "id": "khN6XUkwoiml"
      },
      "source": [
        "\n",
        "The second type of data of which we will make use is the\n",
        "[Tweet Object](https://developer.twitter.com/en/docs/tweets/data-dictionary/overview/tweet-object).\n",
        "A user object actually contains the user's most recent tweet:"
      ]
    },
    {
      "cell_type": "code",
      "metadata": {
        "id": "rmYvPt914glt"
      },
      "source": [
        "# fetch data from UFRN's user\n",
        "user = twitter.show_user(screen_name='ufrnbr')"
      ],
      "execution_count": null,
      "outputs": []
    },
    {
      "cell_type": "code",
      "metadata": {
        "scrolled": true,
        "id": "6HatM3R8vS2E"
      },
      "source": [
        "most_recent_tweet = user['status']\n",
        "most_recent_tweet"
      ],
      "execution_count": null,
      "outputs": []
    },
    {
      "cell_type": "markdown",
      "metadata": {
        "id": "DXcEEgoZvS2E"
      },
      "source": [
        "Tweet objects contain several interesting data and metadata, but the most basic are the `'text'` and `'entities'`. The `'text'` is what you expect it to be: the text of the tweet:"
      ]
    },
    {
      "cell_type": "code",
      "metadata": {
        "id": "3_CG9VcCvS2E",
        "colab": {
          "base_uri": "https://localhost:8080/",
          "height": 35
        },
        "outputId": "739ad856-8927-40ac-87b7-68e53826ce3d"
      },
      "source": [
        "most_recent_tweet['text']"
      ],
      "execution_count": null,
      "outputs": [
        {
          "output_type": "execute_result",
          "data": {
            "application/vnd.google.colaboratory.intrinsic+json": {
              "type": "string"
            },
            "text/plain": [
              "'😍 A @stiufrn é demais!\\n\\n🏆 Olha o que a turma desenvolveu e lançou: https://t.co/dlA0TQaK2G.\\n\\nUm novo site para guia… https://t.co/iCCSoFOqhu'"
            ]
          },
          "metadata": {},
          "execution_count": 22
        }
      ]
    },
    {
      "cell_type": "markdown",
      "metadata": {
        "id": "2Be3KPbtvS2E"
      },
      "source": [
        "The `'entities'` field contains several tokens of interest already extracted from the tweet such as hashtags, URLs, images, and mentions of other users:"
      ]
    },
    {
      "cell_type": "code",
      "metadata": {
        "id": "kRJWoV8EvS2E"
      },
      "source": [
        "most_recent_tweet['entities']"
      ],
      "execution_count": null,
      "outputs": []
    },
    {
      "cell_type": "markdown",
      "metadata": {
        "id": "pH8Hyx7CvS2E"
      },
      "source": [
        "In particular, we'll make use of the `'user_mentions'` later:"
      ]
    },
    {
      "cell_type": "code",
      "metadata": {
        "id": "FfMBRYlhvS2E",
        "colab": {
          "base_uri": "https://localhost:8080/"
        },
        "outputId": "9439ee1d-1e4e-4952-c181-28c7ef5c98da"
      },
      "source": [
        "most_recent_tweet['entities']['user_mentions']"
      ],
      "execution_count": null,
      "outputs": [
        {
          "output_type": "execute_result",
          "data": {
            "text/plain": [
              "[{'id': 205837129,\n",
              "  'id_str': '205837129',\n",
              "  'indices': [4, 12],\n",
              "  'name': 'Sitty da STI/UFRN',\n",
              "  'screen_name': 'stiufrn'}]"
            ]
          },
          "metadata": {},
          "execution_count": 24
        }
      ]
    },
    {
      "cell_type": "markdown",
      "metadata": {
        "id": "ZN7tcAY5vS2E"
      },
      "source": [
        "# 4.0 Using Twitter's search API to get tweets of interest\n"
      ]
    },
    {
      "cell_type": "markdown",
      "metadata": {
        "id": "P79J8-2Bonlm"
      },
      "source": [
        "\n",
        "Twitter's\n",
        "[Search API](https://developer.twitter.com/en/docs/tweets/search/api-reference/get-search-tweets.html)\n",
        "allows you to fetch recent tweets according to a query of keywords, URLs, hashtags, user mentions, etc.\n"
      ]
    },
    {
      "cell_type": "markdown",
      "metadata": {
        "id": "DO33luYRpcIb"
      },
      "source": [
        "\n",
        "## 4.1 Get tweets matching a hashtag\n",
        "\n",
        "We'll make use of the ability to search by hashtags:"
      ]
    },
    {
      "cell_type": "code",
      "metadata": {
        "id": "UFbXMyc5vS2F"
      },
      "source": [
        "search_response = twitter.search(q='ucrania russia war', count=500, lang='en')"
      ],
      "execution_count": null,
      "outputs": []
    },
    {
      "cell_type": "code",
      "metadata": {
        "id": "x_fSMefqlv1A"
      },
      "source": [
        "search_response"
      ],
      "execution_count": null,
      "outputs": []
    },
    {
      "cell_type": "code",
      "metadata": {
        "id": "9_H0Eq5DRxUe",
        "colab": {
          "base_uri": "https://localhost:8080/"
        },
        "outputId": "2a36fda5-ddfb-43fb-ef50-1aa2c37f6c99"
      },
      "source": [
        "# current limits to followers/list endpoint\n",
        "twitter.get_application_rate_limit_status()['resources'][\"search\"]"
      ],
      "execution_count": null,
      "outputs": [
        {
          "output_type": "execute_result",
          "data": {
            "text/plain": [
              "{'/search/tweets': {'limit': 180, 'remaining': 176, 'reset': 1645155093}}"
            ]
          },
          "metadata": {},
          "execution_count": 18
        }
      ]
    },
    {
      "cell_type": "markdown",
      "metadata": {
        "id": "OLcUMxQyvS2F"
      },
      "source": [
        "While the search API response is a dictionary, the `'statuses'` field contains the list of\n",
        "[Tweet Objects](https://developer.twitter.com/en/docs/tweets/data-dictionary/overview/tweet-object)\n",
        "we're after."
      ]
    },
    {
      "cell_type": "code",
      "metadata": {
        "scrolled": true,
        "id": "wBiaszF8vS2F"
      },
      "source": [
        "search_tweets = search_response['statuses']\n",
        "tweet = search_tweets[0]\n",
        "tweet"
      ],
      "execution_count": null,
      "outputs": []
    },
    {
      "cell_type": "markdown",
      "metadata": {
        "id": "ZGPJSyYtvS2F"
      },
      "source": [
        "Note that each tweet obtained from this API contains a `'user'` field -- this is a User Object for the user who created the tweet."
      ]
    },
    {
      "cell_type": "code",
      "metadata": {
        "scrolled": true,
        "id": "3yNTEB-1vS2F"
      },
      "source": [
        "tweet['user']"
      ],
      "execution_count": null,
      "outputs": []
    },
    {
      "cell_type": "markdown",
      "metadata": {
        "id": "sf4b1Jh_vS2F"
      },
      "source": [
        "## 4.2 Using a cursor to get more than 100 tweets from a search\n",
        "\n",
        "We can only fetch up to 100 tweets at a time from a single search API call:"
      ]
    },
    {
      "cell_type": "code",
      "metadata": {
        "id": "-DB3_NHuvS2F",
        "colab": {
          "base_uri": "https://localhost:8080/"
        },
        "outputId": "c595c07f-ddb6-4fcb-c7fc-e1134fec97de"
      },
      "source": [
        "# even with count=1000, we still get at most 100 tweets\n",
        "search_response = twitter.search(q='ukraine war russia', count=1000)\n",
        "len(search_response['statuses'])"
      ],
      "execution_count": null,
      "outputs": [
        {
          "output_type": "execute_result",
          "data": {
            "text/plain": [
              "100"
            ]
          },
          "metadata": {},
          "execution_count": 26
        }
      ]
    },
    {
      "cell_type": "markdown",
      "metadata": {
        "id": "bjZU7UXrvS2F"
      },
      "source": [
        "In order to get more tweets from a search, we can make use of a cursor:"
      ]
    },
    {
      "cell_type": "code",
      "metadata": {
        "id": "jdCTjWlwvS2F",
        "colab": {
          "base_uri": "https://localhost:8080/"
        },
        "outputId": "04f9d21b-326f-420f-bcd9-b5d6996098b6"
      },
      "source": [
        "import itertools\n",
        "\n",
        "NUM_TWEETS_TO_FETCH = 1000\n",
        "\n",
        "cursor = twitter.cursor(twitter.search, q='ukraine war russia', count=100, result_type='mixed')\n",
        "search_tweets = list(itertools.islice(cursor, NUM_TWEETS_TO_FETCH))\n",
        "len(search_tweets)"
      ],
      "execution_count": null,
      "outputs": [
        {
          "output_type": "execute_result",
          "data": {
            "text/plain": [
              "1000"
            ]
          },
          "metadata": {},
          "execution_count": 28
        }
      ]
    },
    {
      "cell_type": "code",
      "metadata": {
        "id": "8lY44Co0W5yA"
      },
      "source": [
        "import pandas as pd\n",
        "\n",
        "# Search tweets\n",
        "dict_ = {'user': [], 'date': [], 'location': []}\n",
        "for tweet in search_tweets:\n",
        "    dict_['user'].append(tweet['user']['screen_name'])\n",
        "    dict_['date'].append(tweet['created_at'])\n",
        "    dict_['location'].append(tweet['user']['location'])\n",
        "# Structure data in a pandas DataFrame for easier manipulation\n",
        "df = pd.DataFrame(dict_)"
      ],
      "execution_count": null,
      "outputs": []
    },
    {
      "cell_type": "code",
      "metadata": {
        "id": "dRQRh53pXbfr",
        "colab": {
          "base_uri": "https://localhost:8080/",
          "height": 206
        },
        "outputId": "e8c29b2f-e2de-471f-9781-833bbd33c36f"
      },
      "source": [
        "df.head()"
      ],
      "execution_count": null,
      "outputs": [
        {
          "output_type": "execute_result",
          "data": {
            "text/html": [
              "\n",
              "  <div id=\"df-b0d6958e-4a2c-4fdd-99b7-e3aca1969013\">\n",
              "    <div class=\"colab-df-container\">\n",
              "      <div>\n",
              "<style scoped>\n",
              "    .dataframe tbody tr th:only-of-type {\n",
              "        vertical-align: middle;\n",
              "    }\n",
              "\n",
              "    .dataframe tbody tr th {\n",
              "        vertical-align: top;\n",
              "    }\n",
              "\n",
              "    .dataframe thead th {\n",
              "        text-align: right;\n",
              "    }\n",
              "</style>\n",
              "<table border=\"1\" class=\"dataframe\">\n",
              "  <thead>\n",
              "    <tr style=\"text-align: right;\">\n",
              "      <th></th>\n",
              "      <th>user</th>\n",
              "      <th>date</th>\n",
              "      <th>location</th>\n",
              "    </tr>\n",
              "  </thead>\n",
              "  <tbody>\n",
              "    <tr>\n",
              "      <th>0</th>\n",
              "      <td>TheRickWilson</td>\n",
              "      <td>Thu Feb 17 23:33:24 +0000 2022</td>\n",
              "      <td>Florida, Man.</td>\n",
              "    </tr>\n",
              "    <tr>\n",
              "      <th>1</th>\n",
              "      <td>OccupyDemocrats</td>\n",
              "      <td>Wed Feb 16 23:53:53 +0000 2022</td>\n",
              "      <td>United States</td>\n",
              "    </tr>\n",
              "    <tr>\n",
              "      <th>2</th>\n",
              "      <td>mfa_russia</td>\n",
              "      <td>Wed Feb 16 14:48:57 +0000 2022</td>\n",
              "      <td>Russia</td>\n",
              "    </tr>\n",
              "    <tr>\n",
              "      <th>3</th>\n",
              "      <td>preferfactslots</td>\n",
              "      <td>Fri Feb 18 03:27:21 +0000 2022</td>\n",
              "      <td></td>\n",
              "    </tr>\n",
              "    <tr>\n",
              "      <th>4</th>\n",
              "      <td>jessieklingertv</td>\n",
              "      <td>Fri Feb 18 03:27:17 +0000 2022</td>\n",
              "      <td></td>\n",
              "    </tr>\n",
              "  </tbody>\n",
              "</table>\n",
              "</div>\n",
              "      <button class=\"colab-df-convert\" onclick=\"convertToInteractive('df-b0d6958e-4a2c-4fdd-99b7-e3aca1969013')\"\n",
              "              title=\"Convert this dataframe to an interactive table.\"\n",
              "              style=\"display:none;\">\n",
              "        \n",
              "  <svg xmlns=\"http://www.w3.org/2000/svg\" height=\"24px\"viewBox=\"0 0 24 24\"\n",
              "       width=\"24px\">\n",
              "    <path d=\"M0 0h24v24H0V0z\" fill=\"none\"/>\n",
              "    <path d=\"M18.56 5.44l.94 2.06.94-2.06 2.06-.94-2.06-.94-.94-2.06-.94 2.06-2.06.94zm-11 1L8.5 8.5l.94-2.06 2.06-.94-2.06-.94L8.5 2.5l-.94 2.06-2.06.94zm10 10l.94 2.06.94-2.06 2.06-.94-2.06-.94-.94-2.06-.94 2.06-2.06.94z\"/><path d=\"M17.41 7.96l-1.37-1.37c-.4-.4-.92-.59-1.43-.59-.52 0-1.04.2-1.43.59L10.3 9.45l-7.72 7.72c-.78.78-.78 2.05 0 2.83L4 21.41c.39.39.9.59 1.41.59.51 0 1.02-.2 1.41-.59l7.78-7.78 2.81-2.81c.8-.78.8-2.07 0-2.86zM5.41 20L4 18.59l7.72-7.72 1.47 1.35L5.41 20z\"/>\n",
              "  </svg>\n",
              "      </button>\n",
              "      \n",
              "  <style>\n",
              "    .colab-df-container {\n",
              "      display:flex;\n",
              "      flex-wrap:wrap;\n",
              "      gap: 12px;\n",
              "    }\n",
              "\n",
              "    .colab-df-convert {\n",
              "      background-color: #E8F0FE;\n",
              "      border: none;\n",
              "      border-radius: 50%;\n",
              "      cursor: pointer;\n",
              "      display: none;\n",
              "      fill: #1967D2;\n",
              "      height: 32px;\n",
              "      padding: 0 0 0 0;\n",
              "      width: 32px;\n",
              "    }\n",
              "\n",
              "    .colab-df-convert:hover {\n",
              "      background-color: #E2EBFA;\n",
              "      box-shadow: 0px 1px 2px rgba(60, 64, 67, 0.3), 0px 1px 3px 1px rgba(60, 64, 67, 0.15);\n",
              "      fill: #174EA6;\n",
              "    }\n",
              "\n",
              "    [theme=dark] .colab-df-convert {\n",
              "      background-color: #3B4455;\n",
              "      fill: #D2E3FC;\n",
              "    }\n",
              "\n",
              "    [theme=dark] .colab-df-convert:hover {\n",
              "      background-color: #434B5C;\n",
              "      box-shadow: 0px 1px 3px 1px rgba(0, 0, 0, 0.15);\n",
              "      filter: drop-shadow(0px 1px 2px rgba(0, 0, 0, 0.3));\n",
              "      fill: #FFFFFF;\n",
              "    }\n",
              "  </style>\n",
              "\n",
              "      <script>\n",
              "        const buttonEl =\n",
              "          document.querySelector('#df-b0d6958e-4a2c-4fdd-99b7-e3aca1969013 button.colab-df-convert');\n",
              "        buttonEl.style.display =\n",
              "          google.colab.kernel.accessAllowed ? 'block' : 'none';\n",
              "\n",
              "        async function convertToInteractive(key) {\n",
              "          const element = document.querySelector('#df-b0d6958e-4a2c-4fdd-99b7-e3aca1969013');\n",
              "          const dataTable =\n",
              "            await google.colab.kernel.invokeFunction('convertToInteractive',\n",
              "                                                     [key], {});\n",
              "          if (!dataTable) return;\n",
              "\n",
              "          const docLinkHtml = 'Like what you see? Visit the ' +\n",
              "            '<a target=\"_blank\" href=https://colab.research.google.com/notebooks/data_table.ipynb>data table notebook</a>'\n",
              "            + ' to learn more about interactive tables.';\n",
              "          element.innerHTML = '';\n",
              "          dataTable['output_type'] = 'display_data';\n",
              "          await google.colab.output.renderOutput(dataTable, element);\n",
              "          const docLink = document.createElement('div');\n",
              "          docLink.innerHTML = docLinkHtml;\n",
              "          element.appendChild(docLink);\n",
              "        }\n",
              "      </script>\n",
              "    </div>\n",
              "  </div>\n",
              "  "
            ],
            "text/plain": [
              "              user                            date       location\n",
              "0    TheRickWilson  Thu Feb 17 23:33:24 +0000 2022  Florida, Man.\n",
              "1  OccupyDemocrats  Wed Feb 16 23:53:53 +0000 2022  United States\n",
              "2       mfa_russia  Wed Feb 16 14:48:57 +0000 2022         Russia\n",
              "3  preferfactslots  Fri Feb 18 03:27:21 +0000 2022               \n",
              "4  jessieklingertv  Fri Feb 18 03:27:17 +0000 2022               "
            ]
          },
          "metadata": {},
          "execution_count": 30
        }
      ]
    },
    {
      "cell_type": "code",
      "metadata": {
        "id": "CXeAhZcRnRNU",
        "colab": {
          "base_uri": "https://localhost:8080/"
        },
        "outputId": "56e15351-b709-484b-ce29-a0eba41dd8d3"
      },
      "source": [
        "df.shape"
      ],
      "execution_count": null,
      "outputs": [
        {
          "output_type": "execute_result",
          "data": {
            "text/plain": [
              "(1000, 3)"
            ]
          },
          "metadata": {},
          "execution_count": 31
        }
      ]
    },
    {
      "cell_type": "markdown",
      "metadata": {
        "id": "5XogrzHnvS2F"
      },
      "source": [
        "Note the following:\n",
        "* The cursor object is a\n",
        "[generator](https://docs.python.org/3/tutorial/classes.html#generators),\n",
        "a type of iterator that \"lazily\" generates items. We use Python's `itertools.islice` in order to get up to a set number of items from this generator. The second argument passed to `islice` is the max number of tweets we want to fetch from the user.\n",
        "* Even though we want to get more than 100 tweets here, we provide the `count=100` argument. This tells the cursor to fetch the maximum number of tweets with each API call.\n",
        "* As documented in [Twitter's Search API documentation](https://developer.twitter.com/en/docs/tweets/search/api-reference/get-search-tweets.html), specifying `result_type='mixed'` provides a mix of recent and popular tweets matching the query. If one desires a more \"random\" sample, you can specify `result_type='recent'`, but Twitter may provide fewer tweets than desired."
      ]
    },
    {
      "cell_type": "markdown",
      "metadata": {
        "id": "tvv-4mc9vS2F"
      },
      "source": [
        "## 4.3 API method rate limits\n",
        "\n",
        "Each API method has a *rate limit* imposed by Twitter, a limit on the number of function calls per 15-minute window. We can check on the rate limit status for this endpoint:"
      ]
    },
    {
      "cell_type": "code",
      "metadata": {
        "id": "xBFF-OlBvS2F",
        "colab": {
          "base_uri": "https://localhost:8080/"
        },
        "outputId": "fa0c15ff-1564-4fae-d312-b07c3530fcc4"
      },
      "source": [
        "twitter.get_application_rate_limit_status()['resources']['search']"
      ],
      "execution_count": null,
      "outputs": [
        {
          "output_type": "execute_result",
          "data": {
            "text/plain": [
              "{'/search/tweets': {'limit': 180, 'remaining': 154, 'reset': 1645155093}}"
            ]
          },
          "metadata": {},
          "execution_count": 32
        }
      ]
    },
    {
      "cell_type": "markdown",
      "metadata": {
        "id": "KrO9mRbsvS2G"
      },
      "source": [
        "These limits apply to the number of API *calls*, as opposed to the number of *items* fetched. This is why, when creating a cursor, we specify `count=` to fetch the maximum number of items per API call."
      ]
    },
    {
      "cell_type": "markdown",
      "metadata": {
        "id": "0V_Hd315vS2G"
      },
      "source": [
        "# 5.0 Creating social network graphs\n"
      ]
    },
    {
      "cell_type": "markdown",
      "metadata": {
        "id": "SqT4fY7QrG65"
      },
      "source": [
        "\n",
        "In the remaining sections of this lesson, we're going to use NetworkX to create social networks from Twitter data. The examples are going to have users as nodes, so at a very basic level, we're going to do something like the following:"
      ]
    },
    {
      "cell_type": "code",
      "metadata": {
        "id": "4mpkU6qGvS2G"
      },
      "source": [
        "import networkx as nx\n",
        "\n",
        "D = nx.DiGraph()\n",
        "\n",
        "university = twitter.show_user(screen_name='ufrnbr')\n",
        "author = twitter.show_user(screen_name='ivanovitchm')\n",
        "\n",
        "D.add_edge(university['screen_name'], author['screen_name'], weight=1)"
      ],
      "execution_count": null,
      "outputs": []
    },
    {
      "cell_type": "code",
      "metadata": {
        "id": "0uAtiKRavS2G",
        "colab": {
          "base_uri": "https://localhost:8080/"
        },
        "outputId": "bdc62726-a098-4fbb-a14c-c6b831358341"
      },
      "source": [
        "list(D.edges(data=True))"
      ],
      "execution_count": null,
      "outputs": [
        {
          "output_type": "execute_result",
          "data": {
            "text/plain": [
              "[('ufrnbr', 'ivanovitchm', {'weight': 1})]"
            ]
          },
          "metadata": {},
          "execution_count": 38
        }
      ]
    },
    {
      "cell_type": "markdown",
      "metadata": {
        "id": "FUnui3r8vS2G"
      },
      "source": [
        "Note that NetworkX will let us use the full user dictionaries as the node names, e.g. `D.add_edge(university, author)`. However, it is inconvenient to work with such a graph. More preferable is to use `screen_name` or `id` as the node names, and then use\n",
        "[node attributes](https://networkx.github.io/documentation/stable/tutorial.html#node-attributes)\n",
        "for the user profile data if desired."
      ]
    },
    {
      "cell_type": "markdown",
      "metadata": {
        "id": "-Gwmtja_vS2G"
      },
      "source": [
        "# 6.0 Twitter retweet network\n"
      ]
    },
    {
      "cell_type": "markdown",
      "metadata": {
        "id": "usz_Jzv5HsGn"
      },
      "source": [
        "\n",
        "One fundamental interaction in the Twitter ecosystem is the \"retweet\" -- rebroadcasting another user's tweet to your followers. A tweet object returned by the API is a retweet if it includes a `'retweeted_status'`. We're going to fetch tweets matching a hashtag and create a retweet network of the conversation.\n"
      ]
    },
    {
      "cell_type": "markdown",
      "metadata": {
        "id": "Rdvg2XvnHyGB"
      },
      "source": [
        "\n",
        "## 6.1 Get some tweets"
      ]
    },
    {
      "cell_type": "code",
      "metadata": {
        "id": "_G39k9SkvS2G",
        "colab": {
          "base_uri": "https://localhost:8080/"
        },
        "outputId": "d5374252-5b7f-4bc3-acae-344dcdbbea6b"
      },
      "source": [
        "import itertools\n",
        "\n",
        "NUM_TWEETS_TO_FETCH = 1000\n",
        "\n",
        "cursor = twitter.cursor(twitter.search, q='ukraine war russia', count=1000, result_type='mixed')\n",
        "search_tweets = list(itertools.islice(cursor, NUM_TWEETS_TO_FETCH))\n",
        "len(search_tweets)"
      ],
      "execution_count": null,
      "outputs": [
        {
          "output_type": "execute_result",
          "data": {
            "text/plain": [
              "1000"
            ]
          },
          "metadata": {},
          "execution_count": 34
        }
      ]
    },
    {
      "cell_type": "code",
      "metadata": {
        "id": "ZII5X9sV9DSh",
        "colab": {
          "base_uri": "https://localhost:8080/"
        },
        "outputId": "4122130f-19a2-4b07-9e17-cc674c92266d"
      },
      "source": [
        "search_tweets[0]"
      ],
      "execution_count": null,
      "outputs": [
        {
          "output_type": "execute_result",
          "data": {
            "text/plain": [
              "{'contributors': None,\n",
              " 'coordinates': None,\n",
              " 'created_at': 'Thu Feb 17 23:33:24 +0000 2022',\n",
              " 'entities': {'hashtags': [],\n",
              "  'symbols': [],\n",
              "  'urls': [{'display_url': 'twitter.com/i/web/status/1…',\n",
              "    'expanded_url': 'https://twitter.com/i/web/status/1494454969268944901',\n",
              "    'indices': [117, 140],\n",
              "    'url': 'https://t.co/6pT83bSnS5'}],\n",
              "  'user_mentions': []},\n",
              " 'favorite_count': 1991,\n",
              " 'favorited': False,\n",
              " 'geo': None,\n",
              " 'id': 1494454969268944901,\n",
              " 'id_str': '1494454969268944901',\n",
              " 'in_reply_to_screen_name': None,\n",
              " 'in_reply_to_status_id': None,\n",
              " 'in_reply_to_status_id_str': None,\n",
              " 'in_reply_to_user_id': None,\n",
              " 'in_reply_to_user_id_str': None,\n",
              " 'is_quote_status': False,\n",
              " 'lang': 'en',\n",
              " 'metadata': {'iso_language_code': 'en', 'result_type': 'popular'},\n",
              " 'place': None,\n",
              " 'possibly_sensitive': False,\n",
              " 'retweet_count': 767,\n",
              " 'retweeted': False,\n",
              " 'source': '<a href=\"https://about.twitter.com/products/tweetdeck\" rel=\"nofollow\">TweetDeck</a>',\n",
              " 'text': '1/ We launched a new ad campaign this week that means a lot as Russia provokes a needless war and challenges the Uk… https://t.co/6pT83bSnS5',\n",
              " 'truncated': True,\n",
              " 'user': {'contributors_enabled': False,\n",
              "  'created_at': 'Fri Jan 16 20:50:17 +0000 2009',\n",
              "  'default_profile': False,\n",
              "  'default_profile_image': False,\n",
              "  'description': 'Lincoln Project co-founder. Ad guy. NYT #1 bestselling author. Seemingly unkillable. Current AND proficient. Have the receipts.',\n",
              "  'entities': {'description': {'urls': []},\n",
              "   'url': {'urls': [{'display_url': 'therickwilson.com',\n",
              "      'expanded_url': 'http://therickwilson.com',\n",
              "      'indices': [0, 23],\n",
              "      'url': 'https://t.co/coL8G35fuI'}]}},\n",
              "  'favourites_count': 99802,\n",
              "  'follow_request_sent': False,\n",
              "  'followers_count': 1316882,\n",
              "  'following': False,\n",
              "  'friends_count': 6494,\n",
              "  'geo_enabled': False,\n",
              "  'has_extended_profile': True,\n",
              "  'id': 19084896,\n",
              "  'id_str': '19084896',\n",
              "  'is_translation_enabled': False,\n",
              "  'is_translator': False,\n",
              "  'lang': None,\n",
              "  'listed_count': 9149,\n",
              "  'location': 'Florida, Man.',\n",
              "  'name': 'Rick Wilson',\n",
              "  'notifications': False,\n",
              "  'profile_background_color': '1A1B1F',\n",
              "  'profile_background_image_url': 'http://abs.twimg.com/images/themes/theme1/bg.png',\n",
              "  'profile_background_image_url_https': 'https://abs.twimg.com/images/themes/theme1/bg.png',\n",
              "  'profile_background_tile': True,\n",
              "  'profile_banner_url': 'https://pbs.twimg.com/profile_banners/19084896/1640873786',\n",
              "  'profile_image_url': 'http://pbs.twimg.com/profile_images/1212477294901702656/ACjWbt9d_normal.jpg',\n",
              "  'profile_image_url_https': 'https://pbs.twimg.com/profile_images/1212477294901702656/ACjWbt9d_normal.jpg',\n",
              "  'profile_link_color': 'FF691F',\n",
              "  'profile_sidebar_border_color': '000000',\n",
              "  'profile_sidebar_fill_color': '252429',\n",
              "  'profile_text_color': '666666',\n",
              "  'profile_use_background_image': True,\n",
              "  'protected': False,\n",
              "  'screen_name': 'TheRickWilson',\n",
              "  'statuses_count': 339924,\n",
              "  'time_zone': None,\n",
              "  'translator_type': 'none',\n",
              "  'url': 'https://t.co/coL8G35fuI',\n",
              "  'utc_offset': None,\n",
              "  'verified': True,\n",
              "  'withheld_in_countries': []}}"
            ]
          },
          "metadata": {},
          "execution_count": 36
        }
      ]
    },
    {
      "cell_type": "code",
      "source": [
        "tweets_with_location = []\n",
        "\n",
        "for tweet in search_tweets:\n",
        "  if tweet['user']['location'] is not '':\n",
        "    tweets_with_location.append(tweet)\n",
        "\n",
        "len(tweets_with_location)"
      ],
      "metadata": {
        "colab": {
          "base_uri": "https://localhost:8080/"
        },
        "id": "5OOe9rQi4SFL",
        "outputId": "caa676ed-d591-44af-f92a-e9dc91f94c99"
      },
      "execution_count": null,
      "outputs": [
        {
          "output_type": "execute_result",
          "data": {
            "text/plain": [
              "610"
            ]
          },
          "metadata": {},
          "execution_count": 44
        }
      ]
    },
    {
      "cell_type": "markdown",
      "metadata": {
        "id": "JurFff8JvS2G"
      },
      "source": [
        "## 6.2 Filter retweets\n"
      ]
    },
    {
      "cell_type": "markdown",
      "metadata": {
        "id": "2xxT1kW6ohNf"
      },
      "source": [
        "\n",
        "Of the tweets we fetched, a subset will be retweets. Let's create a new list of just the retweets:"
      ]
    },
    {
      "cell_type": "code",
      "metadata": {
        "id": "vp_V0AJ2vS2G",
        "colab": {
          "base_uri": "https://localhost:8080/"
        },
        "outputId": "f60b733c-bc14-44b6-d28e-74251a35eaa6"
      },
      "source": [
        "retweets = []\n",
        "for tweet in search_tweets:\n",
        "    if 'retweeted_status' in tweet:\n",
        "        retweets.append(tweet)\n",
        "len(retweets)"
      ],
      "execution_count": null,
      "outputs": [
        {
          "output_type": "execute_result",
          "data": {
            "text/plain": [
              "629"
            ]
          },
          "metadata": {},
          "execution_count": 38
        }
      ]
    },
    {
      "cell_type": "code",
      "metadata": {
        "id": "0PyePpsEo5fK"
      },
      "source": [
        "# a retweet\n",
        "retweets[0]"
      ],
      "execution_count": null,
      "outputs": []
    },
    {
      "cell_type": "code",
      "source": [
        "!pip install locationtagger"
      ],
      "metadata": {
        "id": "NTLG81-y_gDA"
      },
      "execution_count": null,
      "outputs": []
    },
    {
      "cell_type": "code",
      "source": [
        "!pip install nltk"
      ],
      "metadata": {
        "colab": {
          "base_uri": "https://localhost:8080/"
        },
        "id": "R5swTi3EADzO",
        "outputId": "c05a2111-3e38-4c37-8cad-b20a6e4e412f"
      },
      "execution_count": null,
      "outputs": [
        {
          "output_type": "stream",
          "name": "stdout",
          "text": [
            "Requirement already satisfied: nltk in /usr/local/lib/python3.7/dist-packages (3.2.5)\n",
            "Requirement already satisfied: six in /usr/local/lib/python3.7/dist-packages (from nltk) (1.15.0)\n"
          ]
        }
      ]
    },
    {
      "cell_type": "code",
      "source": [
        "!pip install spacy"
      ],
      "metadata": {
        "id": "C80R0Y2VAGDs"
      },
      "execution_count": null,
      "outputs": []
    },
    {
      "cell_type": "markdown",
      "metadata": {
        "id": "PXB4ZTXpvS2G"
      },
      "source": [
        "## 6.3 Create DiGraph\n"
      ]
    },
    {
      "cell_type": "markdown",
      "metadata": {
        "id": "Tp4UUg5ookVF"
      },
      "source": [
        "\n",
        "Each tweet in this list of retweets represents an edge in our network. <font color='red'>We're going to draw these edges in the direction of information flow</font>: from the retweeted user to the retweeter, the user doing the retweeting. Since a user can retweet another user more than once, we want this graph to be weighted, with the number of retweets as the weight."
      ]
    },
    {
      "cell_type": "code",
      "metadata": {
        "id": "GMNv8RPmvS2G",
        "colab": {
          "base_uri": "https://localhost:8080/",
          "height": 675
        },
        "outputId": "36b56df9-d165-4f1d-fa56-4c7360db07a3"
      },
      "source": [
        "import networkx as nx\n",
        "import locationtagger\n",
        "import nltk\n",
        "import spacy\n",
        "\n",
        "D = nx.DiGraph()\n",
        "\n",
        "locations = set()\n",
        "\n",
        "for tweet in tweets_with_location:\n",
        "  tweet_screen_name = tweet['user']['screen_name']\n",
        "  tweet_user_id = tweet['id_str']\n",
        "  tweet_user_location = tweet['user']['location']\n",
        "  print(locationtagger.find_locations(text=tweet_user_location))\n",
        "\n",
        "  locations.add(tweet_user_location)\n",
        "  D.add_node(tweet_user_id, user_name=tweet_screen_name, location=tweet_user_location)\n",
        "\n",
        "print(len(locations))\n",
        "for tweet in D.nodes(data=True):\n",
        "  # print(tweet)\n",
        "  pass\n",
        "\n",
        "# for retweet in retweets:\n",
        "#     retweeted_status = retweet['retweeted_status']\n",
        "#     retweeted_sn = retweeted_status['user']['screen_name']\n",
        "#     retweeter_sn = retweet['user']['screen_name']\n",
        "    \n",
        "#     # Edge direction: retweeted_sn -> retweeter_sn\n",
        "#     if D.has_edge(retweeted_sn, retweeter_sn):\n",
        "#         D.edges[retweeted_sn, retweeter_sn]['weight'] += 1\n",
        "#     else:\n",
        "#         D.add_edge(retweeted_sn, retweeter_sn, weight=1)"
      ],
      "execution_count": null,
      "outputs": [
        {
          "output_type": "error",
          "ename": "LookupError",
          "evalue": "ignored",
          "traceback": [
            "\u001b[0;31m---------------------------------------------------------------------------\u001b[0m",
            "\u001b[0;31mLookupError\u001b[0m                               Traceback (most recent call last)",
            "\u001b[0;32m<ipython-input-56-adb32b85ae47>\u001b[0m in \u001b[0;36m<module>\u001b[0;34m()\u001b[0m\n\u001b[1;32m     12\u001b[0m   \u001b[0mtweet_user_id\u001b[0m \u001b[0;34m=\u001b[0m \u001b[0mtweet\u001b[0m\u001b[0;34m[\u001b[0m\u001b[0;34m'id_str'\u001b[0m\u001b[0;34m]\u001b[0m\u001b[0;34m\u001b[0m\u001b[0;34m\u001b[0m\u001b[0m\n\u001b[1;32m     13\u001b[0m   \u001b[0mtweet_user_location\u001b[0m \u001b[0;34m=\u001b[0m \u001b[0mtweet\u001b[0m\u001b[0;34m[\u001b[0m\u001b[0;34m'user'\u001b[0m\u001b[0;34m]\u001b[0m\u001b[0;34m[\u001b[0m\u001b[0;34m'location'\u001b[0m\u001b[0;34m]\u001b[0m\u001b[0;34m\u001b[0m\u001b[0;34m\u001b[0m\u001b[0m\n\u001b[0;32m---> 14\u001b[0;31m   \u001b[0mprint\u001b[0m\u001b[0;34m(\u001b[0m\u001b[0mlocationtagger\u001b[0m\u001b[0;34m.\u001b[0m\u001b[0mfind_locations\u001b[0m\u001b[0;34m(\u001b[0m\u001b[0mtext\u001b[0m\u001b[0;34m=\u001b[0m\u001b[0mtweet_user_location\u001b[0m\u001b[0;34m)\u001b[0m\u001b[0;34m)\u001b[0m\u001b[0;34m\u001b[0m\u001b[0;34m\u001b[0m\u001b[0m\n\u001b[0m\u001b[1;32m     15\u001b[0m \u001b[0;34m\u001b[0m\u001b[0m\n\u001b[1;32m     16\u001b[0m   \u001b[0mlocations\u001b[0m\u001b[0;34m.\u001b[0m\u001b[0madd\u001b[0m\u001b[0;34m(\u001b[0m\u001b[0mtweet_user_location\u001b[0m\u001b[0;34m)\u001b[0m\u001b[0;34m\u001b[0m\u001b[0;34m\u001b[0m\u001b[0m\n",
            "\u001b[0;32m/usr/local/lib/python3.7/dist-packages/locationtagger/__init__.py\u001b[0m in \u001b[0;36mfind_locations\u001b[0;34m(url, text)\u001b[0m\n\u001b[1;32m      3\u001b[0m \u001b[0;32mdef\u001b[0m \u001b[0mfind_locations\u001b[0m\u001b[0;34m(\u001b[0m\u001b[0murl\u001b[0m\u001b[0;34m=\u001b[0m\u001b[0;32mNone\u001b[0m\u001b[0;34m,\u001b[0m \u001b[0mtext\u001b[0m\u001b[0;34m=\u001b[0m\u001b[0;32mNone\u001b[0m\u001b[0;34m)\u001b[0m\u001b[0;34m:\u001b[0m\u001b[0;34m\u001b[0m\u001b[0;34m\u001b[0m\u001b[0m\n\u001b[1;32m      4\u001b[0m     \u001b[0me\u001b[0m \u001b[0;34m=\u001b[0m \u001b[0mNamedEntityExtractor\u001b[0m\u001b[0;34m(\u001b[0m\u001b[0murl\u001b[0m\u001b[0;34m=\u001b[0m\u001b[0murl\u001b[0m\u001b[0;34m,\u001b[0m \u001b[0mtext\u001b[0m\u001b[0;34m=\u001b[0m\u001b[0mtext\u001b[0m\u001b[0;34m)\u001b[0m\u001b[0;34m\u001b[0m\u001b[0;34m\u001b[0m\u001b[0m\n\u001b[0;32m----> 5\u001b[0;31m     \u001b[0me\u001b[0m\u001b[0;34m.\u001b[0m\u001b[0mfind_named_entities\u001b[0m\u001b[0;34m(\u001b[0m\u001b[0;34m)\u001b[0m\u001b[0;34m\u001b[0m\u001b[0;34m\u001b[0m\u001b[0m\n\u001b[0m\u001b[1;32m      6\u001b[0m \u001b[0;34m\u001b[0m\u001b[0m\n\u001b[1;32m      7\u001b[0m     \u001b[0mlocs\u001b[0m \u001b[0;34m=\u001b[0m \u001b[0mLocationExtractor\u001b[0m\u001b[0;34m(\u001b[0m\u001b[0me\u001b[0m\u001b[0;34m.\u001b[0m\u001b[0mnamed_entities\u001b[0m\u001b[0;34m)\u001b[0m\u001b[0;34m\u001b[0m\u001b[0;34m\u001b[0m\u001b[0m\n",
            "\u001b[0;32m/usr/local/lib/python3.7/dist-packages/locationtagger/locationextractor.py\u001b[0m in \u001b[0;36mfind_named_entities\u001b[0;34m(self)\u001b[0m\n\u001b[1;32m     40\u001b[0m         \u001b[0mself\u001b[0m\u001b[0;34m.\u001b[0m\u001b[0mset_text\u001b[0m\u001b[0;34m(\u001b[0m\u001b[0;34m)\u001b[0m\u001b[0;34m\u001b[0m\u001b[0;34m\u001b[0m\u001b[0m\n\u001b[1;32m     41\u001b[0m \u001b[0;34m\u001b[0m\u001b[0m\n\u001b[0;32m---> 42\u001b[0;31m         \u001b[0mtext\u001b[0m \u001b[0;34m=\u001b[0m \u001b[0mnltk\u001b[0m\u001b[0;34m.\u001b[0m\u001b[0mword_tokenize\u001b[0m\u001b[0;34m(\u001b[0m\u001b[0mclean\u001b[0m\u001b[0;34m(\u001b[0m\u001b[0mself\u001b[0m\u001b[0;34m.\u001b[0m\u001b[0mtext\u001b[0m\u001b[0;34m)\u001b[0m\u001b[0;34m)\u001b[0m\u001b[0;34m\u001b[0m\u001b[0;34m\u001b[0m\u001b[0m\n\u001b[0m\u001b[1;32m     43\u001b[0m         \u001b[0mnes\u001b[0m \u001b[0;34m=\u001b[0m \u001b[0mnltk\u001b[0m\u001b[0;34m.\u001b[0m\u001b[0mne_chunk\u001b[0m\u001b[0;34m(\u001b[0m\u001b[0mnltk\u001b[0m\u001b[0;34m.\u001b[0m\u001b[0mpos_tag\u001b[0m\u001b[0;34m(\u001b[0m\u001b[0mtext\u001b[0m\u001b[0;34m)\u001b[0m\u001b[0;34m)\u001b[0m\u001b[0;34m\u001b[0m\u001b[0;34m\u001b[0m\u001b[0m\n\u001b[1;32m     44\u001b[0m \u001b[0;34m\u001b[0m\u001b[0m\n",
            "\u001b[0;32m/usr/local/lib/python3.7/dist-packages/nltk/tokenize/__init__.py\u001b[0m in \u001b[0;36mword_tokenize\u001b[0;34m(text, language, preserve_line)\u001b[0m\n\u001b[1;32m    126\u001b[0m     \u001b[0;34m:\u001b[0m\u001b[0mtype\u001b[0m \u001b[0mpreserver_line\u001b[0m\u001b[0;34m:\u001b[0m \u001b[0mbool\u001b[0m\u001b[0;34m\u001b[0m\u001b[0;34m\u001b[0m\u001b[0m\n\u001b[1;32m    127\u001b[0m     \"\"\"\n\u001b[0;32m--> 128\u001b[0;31m     \u001b[0msentences\u001b[0m \u001b[0;34m=\u001b[0m \u001b[0;34m[\u001b[0m\u001b[0mtext\u001b[0m\u001b[0;34m]\u001b[0m \u001b[0;32mif\u001b[0m \u001b[0mpreserve_line\u001b[0m \u001b[0;32melse\u001b[0m \u001b[0msent_tokenize\u001b[0m\u001b[0;34m(\u001b[0m\u001b[0mtext\u001b[0m\u001b[0;34m,\u001b[0m \u001b[0mlanguage\u001b[0m\u001b[0;34m)\u001b[0m\u001b[0;34m\u001b[0m\u001b[0;34m\u001b[0m\u001b[0m\n\u001b[0m\u001b[1;32m    129\u001b[0m     return [token for sent in sentences\n\u001b[1;32m    130\u001b[0m             for token in _treebank_word_tokenizer.tokenize(sent)]\n",
            "\u001b[0;32m/usr/local/lib/python3.7/dist-packages/nltk/tokenize/__init__.py\u001b[0m in \u001b[0;36msent_tokenize\u001b[0;34m(text, language)\u001b[0m\n\u001b[1;32m     92\u001b[0m     \u001b[0;34m:\u001b[0m\u001b[0mparam\u001b[0m \u001b[0mlanguage\u001b[0m\u001b[0;34m:\u001b[0m \u001b[0mthe\u001b[0m \u001b[0mmodel\u001b[0m \u001b[0mname\u001b[0m \u001b[0;32min\u001b[0m \u001b[0mthe\u001b[0m \u001b[0mPunkt\u001b[0m \u001b[0mcorpus\u001b[0m\u001b[0;34m\u001b[0m\u001b[0;34m\u001b[0m\u001b[0m\n\u001b[1;32m     93\u001b[0m     \"\"\"\n\u001b[0;32m---> 94\u001b[0;31m     \u001b[0mtokenizer\u001b[0m \u001b[0;34m=\u001b[0m \u001b[0mload\u001b[0m\u001b[0;34m(\u001b[0m\u001b[0;34m'tokenizers/punkt/{0}.pickle'\u001b[0m\u001b[0;34m.\u001b[0m\u001b[0mformat\u001b[0m\u001b[0;34m(\u001b[0m\u001b[0mlanguage\u001b[0m\u001b[0;34m)\u001b[0m\u001b[0;34m)\u001b[0m\u001b[0;34m\u001b[0m\u001b[0;34m\u001b[0m\u001b[0m\n\u001b[0m\u001b[1;32m     95\u001b[0m     \u001b[0;32mreturn\u001b[0m \u001b[0mtokenizer\u001b[0m\u001b[0;34m.\u001b[0m\u001b[0mtokenize\u001b[0m\u001b[0;34m(\u001b[0m\u001b[0mtext\u001b[0m\u001b[0;34m)\u001b[0m\u001b[0;34m\u001b[0m\u001b[0;34m\u001b[0m\u001b[0m\n\u001b[1;32m     96\u001b[0m \u001b[0;34m\u001b[0m\u001b[0m\n",
            "\u001b[0;32m/usr/local/lib/python3.7/dist-packages/nltk/data.py\u001b[0m in \u001b[0;36mload\u001b[0;34m(resource_url, format, cache, verbose, logic_parser, fstruct_reader, encoding)\u001b[0m\n\u001b[1;32m    832\u001b[0m \u001b[0;34m\u001b[0m\u001b[0m\n\u001b[1;32m    833\u001b[0m     \u001b[0;31m# Load the resource.\u001b[0m\u001b[0;34m\u001b[0m\u001b[0;34m\u001b[0m\u001b[0;34m\u001b[0m\u001b[0m\n\u001b[0;32m--> 834\u001b[0;31m     \u001b[0mopened_resource\u001b[0m \u001b[0;34m=\u001b[0m \u001b[0m_open\u001b[0m\u001b[0;34m(\u001b[0m\u001b[0mresource_url\u001b[0m\u001b[0;34m)\u001b[0m\u001b[0;34m\u001b[0m\u001b[0;34m\u001b[0m\u001b[0m\n\u001b[0m\u001b[1;32m    835\u001b[0m \u001b[0;34m\u001b[0m\u001b[0m\n\u001b[1;32m    836\u001b[0m     \u001b[0;32mif\u001b[0m \u001b[0mformat\u001b[0m \u001b[0;34m==\u001b[0m \u001b[0;34m'raw'\u001b[0m\u001b[0;34m:\u001b[0m\u001b[0;34m\u001b[0m\u001b[0;34m\u001b[0m\u001b[0m\n",
            "\u001b[0;32m/usr/local/lib/python3.7/dist-packages/nltk/data.py\u001b[0m in \u001b[0;36m_open\u001b[0;34m(resource_url)\u001b[0m\n\u001b[1;32m    950\u001b[0m \u001b[0;34m\u001b[0m\u001b[0m\n\u001b[1;32m    951\u001b[0m     \u001b[0;32mif\u001b[0m \u001b[0mprotocol\u001b[0m \u001b[0;32mis\u001b[0m \u001b[0;32mNone\u001b[0m \u001b[0;32mor\u001b[0m \u001b[0mprotocol\u001b[0m\u001b[0;34m.\u001b[0m\u001b[0mlower\u001b[0m\u001b[0;34m(\u001b[0m\u001b[0;34m)\u001b[0m \u001b[0;34m==\u001b[0m \u001b[0;34m'nltk'\u001b[0m\u001b[0;34m:\u001b[0m\u001b[0;34m\u001b[0m\u001b[0;34m\u001b[0m\u001b[0m\n\u001b[0;32m--> 952\u001b[0;31m         \u001b[0;32mreturn\u001b[0m \u001b[0mfind\u001b[0m\u001b[0;34m(\u001b[0m\u001b[0mpath_\u001b[0m\u001b[0;34m,\u001b[0m \u001b[0mpath\u001b[0m \u001b[0;34m+\u001b[0m \u001b[0;34m[\u001b[0m\u001b[0;34m''\u001b[0m\u001b[0;34m]\u001b[0m\u001b[0;34m)\u001b[0m\u001b[0;34m.\u001b[0m\u001b[0mopen\u001b[0m\u001b[0;34m(\u001b[0m\u001b[0;34m)\u001b[0m\u001b[0;34m\u001b[0m\u001b[0;34m\u001b[0m\u001b[0m\n\u001b[0m\u001b[1;32m    953\u001b[0m     \u001b[0;32melif\u001b[0m \u001b[0mprotocol\u001b[0m\u001b[0;34m.\u001b[0m\u001b[0mlower\u001b[0m\u001b[0;34m(\u001b[0m\u001b[0;34m)\u001b[0m \u001b[0;34m==\u001b[0m \u001b[0;34m'file'\u001b[0m\u001b[0;34m:\u001b[0m\u001b[0;34m\u001b[0m\u001b[0;34m\u001b[0m\u001b[0m\n\u001b[1;32m    954\u001b[0m         \u001b[0;31m# urllib might not use mode='rb', so handle this one ourselves:\u001b[0m\u001b[0;34m\u001b[0m\u001b[0;34m\u001b[0m\u001b[0;34m\u001b[0m\u001b[0m\n",
            "\u001b[0;32m/usr/local/lib/python3.7/dist-packages/nltk/data.py\u001b[0m in \u001b[0;36mfind\u001b[0;34m(resource_name, paths)\u001b[0m\n\u001b[1;32m    671\u001b[0m     \u001b[0msep\u001b[0m \u001b[0;34m=\u001b[0m \u001b[0;34m'*'\u001b[0m \u001b[0;34m*\u001b[0m \u001b[0;36m70\u001b[0m\u001b[0;34m\u001b[0m\u001b[0;34m\u001b[0m\u001b[0m\n\u001b[1;32m    672\u001b[0m     \u001b[0mresource_not_found\u001b[0m \u001b[0;34m=\u001b[0m \u001b[0;34m'\\n%s\\n%s\\n%s\\n'\u001b[0m \u001b[0;34m%\u001b[0m \u001b[0;34m(\u001b[0m\u001b[0msep\u001b[0m\u001b[0;34m,\u001b[0m \u001b[0mmsg\u001b[0m\u001b[0;34m,\u001b[0m \u001b[0msep\u001b[0m\u001b[0;34m)\u001b[0m\u001b[0;34m\u001b[0m\u001b[0;34m\u001b[0m\u001b[0m\n\u001b[0;32m--> 673\u001b[0;31m     \u001b[0;32mraise\u001b[0m \u001b[0mLookupError\u001b[0m\u001b[0;34m(\u001b[0m\u001b[0mresource_not_found\u001b[0m\u001b[0;34m)\u001b[0m\u001b[0;34m\u001b[0m\u001b[0;34m\u001b[0m\u001b[0m\n\u001b[0m\u001b[1;32m    674\u001b[0m \u001b[0;34m\u001b[0m\u001b[0m\n\u001b[1;32m    675\u001b[0m \u001b[0;34m\u001b[0m\u001b[0m\n",
            "\u001b[0;31mLookupError\u001b[0m: \n**********************************************************************\n  Resource \u001b[93mpunkt\u001b[0m not found.\n  Please use the NLTK Downloader to obtain the resource:\n\n  \u001b[31m>>> import nltk\n  >>> nltk.download('punkt')\n  \u001b[0m\n  Searched in:\n    - '/root/nltk_data'\n    - '/usr/share/nltk_data'\n    - '/usr/local/share/nltk_data'\n    - '/usr/lib/nltk_data'\n    - '/usr/local/lib/nltk_data'\n    - '/usr/nltk_data'\n    - '/usr/lib/nltk_data'\n    - ''\n**********************************************************************\n"
          ]
        }
      ]
    },
    {
      "cell_type": "markdown",
      "metadata": {
        "id": "acyByTp3vS2G"
      },
      "source": [
        "The edge addition logic here is to increase the edge weight by 1 if the edge exists, or else create the edge with weight 1 if it does not exist.\n",
        "\n",
        "When writing code such as this that refers multiple times to the same directed edge, make sure to be consistent with the edge direction."
      ]
    },
    {
      "cell_type": "markdown",
      "metadata": {
        "id": "LwU9t4eWvS2G"
      },
      "source": [
        "## 6.4 Analyze graph\n"
      ]
    },
    {
      "cell_type": "markdown",
      "metadata": {
        "id": "uNYZz_oWqEAt"
      },
      "source": [
        "\n",
        "Now that we have this graph, let's ask some questions about it.\n"
      ]
    },
    {
      "cell_type": "markdown",
      "metadata": {
        "id": "m0zcjTTtqKfV"
      },
      "source": [
        "\n",
        "### 6.4.1 Most retweeted user\n"
      ]
    },
    {
      "cell_type": "markdown",
      "metadata": {
        "id": "Ln5awzOeqLT_"
      },
      "source": [
        "\n",
        "Since the edges are in the direction of information flow, out-degree gives us the number of other users retweeting a given user. We can get the user with highest out-degree using the built-in `max` function:"
      ]
    },
    {
      "cell_type": "code",
      "metadata": {
        "id": "ZinSHs6qvS2G",
        "colab": {
          "base_uri": "https://localhost:8080/",
          "height": 35
        },
        "outputId": "b4112e4d-d858-4bf1-834d-cc2479ba6c6f"
      },
      "source": [
        "max(D.nodes, key=D.out_degree)"
      ],
      "execution_count": null,
      "outputs": [
        {
          "output_type": "execute_result",
          "data": {
            "application/vnd.google.colaboratory.intrinsic+json": {
              "type": "string"
            },
            "text/plain": [
              "'AndAndflix'"
            ]
          },
          "metadata": {},
          "execution_count": 46
        }
      ]
    },
    {
      "cell_type": "markdown",
      "metadata": {
        "id": "ihJcKVtuvS2G"
      },
      "source": [
        "but we can get more context and information from the \"top N\" users:"
      ]
    },
    {
      "cell_type": "code",
      "metadata": {
        "id": "6sSh64DbvS2G",
        "colab": {
          "base_uri": "https://localhost:8080/"
        },
        "outputId": "fa10c8f4-6a14-4baa-ced3-0493c89782b0"
      },
      "source": [
        "from operator import itemgetter\n",
        "\n",
        "sorted(D.out_degree(), key=itemgetter(1), reverse=True)[:5]"
      ],
      "execution_count": null,
      "outputs": [
        {
          "output_type": "execute_result",
          "data": {
            "text/plain": [
              "[('AndAndflix', 6),\n",
              " ('agenciapublica', 3),\n",
              " ('ErastoFortes', 3),\n",
              " ('UFPA_Oficial', 2),\n",
              " ('fer_s2m', 1)]"
            ]
          },
          "metadata": {},
          "execution_count": 47
        }
      ]
    },
    {
      "cell_type": "code",
      "metadata": {
        "id": "DS93volW-lDa",
        "colab": {
          "base_uri": "https://localhost:8080/"
        },
        "outputId": "ec072ebe-469a-4387-aea7-872035f8719c"
      },
      "source": [
        "D.out_degree()"
      ],
      "execution_count": null,
      "outputs": [
        {
          "output_type": "execute_result",
          "data": {
            "text/plain": [
              "OutDegreeView({'AndAndflix': 6, 'Romrio444665772': 0, 'fer_s2m': 1, 'GabiLamira': 0, 'Ari_Sirius': 1, 'bot_cockroach': 0, 'StefanoSalles': 1, 'bonassoli': 0, 'loira_dobem_': 1, 'Maufalavigna': 0, 'exploracao': 1, 'astolfi_felix': 0, 'garfonasopa': 1, 'griittner': 0, '0xC16C616E': 1, 'MateuSachetti': 0, 'aurimarsousa52': 1, 'GlloriaReis': 0, 'MayconO81448690': 0, 'evandrociapim': 1, 'CarlosM86898782': 0, 'agenciapublica': 3, 'PaulFreitas13PT': 0, 'BitteNiemand': 1, 'umbrios': 0, 'ErastoFortes': 3, 'MilvaVieito': 0, 'ze_ferino10': 0, 'CarlaZambelli38': 1, 'mmmtavares1': 0, 'LuizCFidelis': 0, 'JeanCorrea': 0, 'mluciares': 0, 'FelisbinoSergio': 1, 'MichelleSGonal1': 0, 'j10215599': 0, 'Thiago81508035': 0, 'Hannysiei': 1, 'elhart_': 0, 'soberano_1999': 0, 'guicambraia': 1, 'pedrofeerraz': 0, 'Diamant64581372': 0, 'UFPA_Oficial': 2, 'marcond3serrao': 0, 'Danutaleao': 0, 'SandraRaissa': 1, 'NeisaFernandes': 0})"
            ]
          },
          "metadata": {},
          "execution_count": 48
        }
      ]
    },
    {
      "cell_type": "markdown",
      "metadata": {
        "id": "DKjZUB2RvS2G"
      },
      "source": [
        "In this piece of code, we take advantage of the fact that `D.out_degree()` returns a sequence of `(name, degree)` 2-tuples; specifying `key=itemgetter(1)` tells the `sorted` function to sort these 2-tuples by their value at index 1. Giving `reverse=True` tells the `sorted` function that we want this in descending order, and the `[:5]` at the end slices the first 5 items from the resulting list.\n",
        "\n",
        "However, this is a weighted graph! By default, `out_degree()` ignores the edge weights. We can get out-strength by telling the `out_degree()` function to take into account the edge weight:"
      ]
    },
    {
      "cell_type": "code",
      "metadata": {
        "id": "tFfxTxMBvS2G",
        "colab": {
          "base_uri": "https://localhost:8080/"
        },
        "outputId": "d9a9cb2a-1d89-4d85-eec7-8d40a02bf242"
      },
      "source": [
        "sorted(D.out_degree(weight='weight'), key=itemgetter(1), reverse=True)[:5]"
      ],
      "execution_count": null,
      "outputs": [
        {
          "output_type": "execute_result",
          "data": {
            "text/plain": [
              "[('AndAndflix', 6),\n",
              " ('agenciapublica', 3),\n",
              " ('ErastoFortes', 3),\n",
              " ('UFPA_Oficial', 2),\n",
              " ('fer_s2m', 1)]"
            ]
          },
          "metadata": {},
          "execution_count": 49
        }
      ]
    },
    {
      "cell_type": "markdown",
      "metadata": {
        "id": "L6r1o4tFvS2H"
      },
      "source": [
        "In some cases these two results will be the same, namely if none of these users has been retweeted multiple times by the same user. Depending on your use case, you may or may not wish to take the weights into account.\n"
      ]
    },
    {
      "cell_type": "markdown",
      "metadata": {
        "id": "I5txahzgqsF1"
      },
      "source": [
        "\n",
        "### 6.4.2 Anomaly detection\n"
      ]
    },
    {
      "cell_type": "markdown",
      "metadata": {
        "id": "qY7B2EqFqt73"
      },
      "source": [
        "\n",
        "One type of social media manipulation involves accounts that create very little original content, instead \"spamming\" retweets of any and all content in a particular conversation. Can we detect any users doing significantly more retweeting than others? Let's look at the top N retweeters:"
      ]
    },
    {
      "cell_type": "code",
      "metadata": {
        "scrolled": true,
        "id": "2YbKCw3PvS2H",
        "colab": {
          "base_uri": "https://localhost:8080/"
        },
        "outputId": "0dcbed9a-87a6-44e8-be57-d54f3ad5350f"
      },
      "source": [
        "sorted(D.in_degree(weight='weight'), key=itemgetter(1), reverse=True)[:5]"
      ],
      "execution_count": null,
      "outputs": [
        {
          "output_type": "execute_result",
          "data": {
            "text/plain": [
              "[('Romrio444665772', 1),\n",
              " ('GabiLamira', 1),\n",
              " ('bot_cockroach', 1),\n",
              " ('bonassoli', 1),\n",
              " ('Maufalavigna', 1)]"
            ]
          },
          "metadata": {},
          "execution_count": 50
        }
      ]
    },
    {
      "cell_type": "markdown",
      "metadata": {
        "id": "gLdgve_dvS2H"
      },
      "source": [
        "### 6.4.3 Connectivity\n"
      ]
    },
    {
      "cell_type": "markdown",
      "metadata": {
        "id": "C4JxI_UQq_in"
      },
      "source": [
        "\n",
        "We can ask if the tweets obtained by the search represent one large conversation or many small conversations; broadly speaking, each weakly-connected component represents a conversation."
      ]
    },
    {
      "cell_type": "code",
      "metadata": {
        "id": "ovAtnR0mvS2H",
        "colab": {
          "base_uri": "https://localhost:8080/"
        },
        "outputId": "60754262-9127-4522-d59a-700cd131e010"
      },
      "source": [
        "nx.is_weakly_connected(D)"
      ],
      "execution_count": null,
      "outputs": [
        {
          "output_type": "execute_result",
          "data": {
            "text/plain": [
              "False"
            ]
          },
          "metadata": {},
          "execution_count": 51
        }
      ]
    },
    {
      "cell_type": "code",
      "metadata": {
        "id": "6RzDNKeuvS2H",
        "colab": {
          "base_uri": "https://localhost:8080/"
        },
        "outputId": "ce640b0d-1b5f-45b6-9a9f-7eb88b8ff03f"
      },
      "source": [
        "nx.number_weakly_connected_components(D)"
      ],
      "execution_count": null,
      "outputs": [
        {
          "output_type": "execute_result",
          "data": {
            "text/plain": [
              "19"
            ]
          },
          "metadata": {},
          "execution_count": 52
        }
      ]
    },
    {
      "cell_type": "markdown",
      "metadata": {
        "id": "if3Q37olvS2H"
      },
      "source": [
        "### 6.4.4 Drawing\n"
      ]
    },
    {
      "cell_type": "markdown",
      "metadata": {
        "id": "3KK4uatvrKCu"
      },
      "source": [
        "\n",
        "We can try to draw this graph with the nodes sized by their out-strength:"
      ]
    },
    {
      "cell_type": "code",
      "metadata": {
        "id": "AzVkPs8kvS2H",
        "colab": {
          "base_uri": "https://localhost:8080/",
          "height": 319
        },
        "outputId": "bec91164-82d7-419f-cfe8-ec9f52a4c375"
      },
      "source": [
        "node_sizes = [D.out_degree(n, weight='weight') * 50 for n in D.nodes]\n",
        "\n",
        "%matplotlib inline\n",
        "nx.draw(D, node_size=node_sizes)"
      ],
      "execution_count": null,
      "outputs": [
        {
          "output_type": "display_data",
          "data": {
            "image/png": "[encoded data removed]",
            "text/plain": [
              "<Figure size 432x288 with 1 Axes>"
            ]
          },
          "metadata": {}
        }
      ]
    },
    {
      "cell_type": "markdown",
      "metadata": {
        "id": "CCunfNkovS2H"
      },
      "source": [
        "Note that in this simplistic drawing, nodes with zero out-strength are not drawn on the diagram because their size is 0. This suits us fine; only the users who have been retweeted are drawn here."
      ]
    },
    {
      "cell_type": "markdown",
      "metadata": {
        "id": "MA5DPlxEvS2H"
      },
      "source": [
        "# 7.0 Twitter mention network\n"
      ]
    },
    {
      "cell_type": "markdown",
      "metadata": {
        "id": "dAvZwYXnri4N"
      },
      "source": [
        "\n",
        "Another Twitter interaction between users occurs when one user mentions another in a tweet by their @screen_name. As an example, consider the following hypothetical tweet from @osome_iu:\n",
        "\n",
        "> Check out the new research from @IUSICE and @USC_ISI https://...\n",
        "\n",
        "From this tweet we would create two edges:\n",
        "\n",
        "    ('osome_iu', 'IUSICE')\n",
        "    ('osome_iu', 'USC_ISI')\n",
        "\n",
        "It's up to us which direction we draw these edges, but we should be consistent. In this example, we will draw edges in the direction of attention flow: @osome_iu is giving attention to @IUSICE and @USC_ISI.\n"
      ]
    },
    {
      "cell_type": "markdown",
      "metadata": {
        "id": "fd1_TCcfryPE"
      },
      "source": [
        "\n",
        "## 7.1 Get some tweets"
      ]
    },
    {
      "cell_type": "code",
      "metadata": {
        "id": "ER9zq30GvS2H",
        "colab": {
          "base_uri": "https://localhost:8080/"
        },
        "outputId": "20dac513-add2-452b-ddc1-b966164c17cd"
      },
      "source": [
        "import itertools\n",
        "\n",
        "NUM_TWEETS_TO_FETCH = 1000\n",
        "\n",
        "cursor = twitter.cursor(twitter.search, q='crise hídrica', count=100, result_type='mixed')\n",
        "search_tweets = list(itertools.islice(cursor, NUM_TWEETS_TO_FETCH))\n",
        "len(search_tweets)"
      ],
      "execution_count": null,
      "outputs": [
        {
          "output_type": "execute_result",
          "data": {
            "text/plain": [
              "184"
            ]
          },
          "metadata": {},
          "execution_count": 20
        }
      ]
    },
    {
      "cell_type": "markdown",
      "metadata": {
        "id": "-Xae28h1vS2H"
      },
      "source": [
        "## 7.2 Create DiGraph\n",
        "\n",
        "It's not necessary to first filter out tweets containing user mentions due to a feature of\n",
        "[Tweet Objects](https://developer.twitter.com/en/docs/tweets/data-dictionary/overview/tweet-object):\n",
        "every tweet has\n",
        "[Entities](https://developer.twitter.com/en/docs/tweets/data-dictionary/overview/entities-object#entitiesobject)\n",
        "which always contains a `'user_mentions'` list, even if that list is empty. Since a tweet may mention more than one user, we need a nested for-loop."
      ]
    },
    {
      "cell_type": "code",
      "metadata": {
        "id": "DmEm-RJwThwz"
      },
      "source": [
        "search_tweets[0]"
      ],
      "execution_count": null,
      "outputs": []
    },
    {
      "cell_type": "code",
      "metadata": {
        "id": "W3KD3cvtvS2H"
      },
      "source": [
        "import networkx as nx\n",
        "\n",
        "D = nx.DiGraph()\n",
        "\n",
        "for tweet in search_tweets:\n",
        "    tweet_sn = tweet['user']['screen_name']\n",
        "    for user_mention in tweet['entities']['user_mentions']:\n",
        "        mentioned_sn = user_mention['screen_name']\n",
        "        \n",
        "        my_edge = (tweet_sn, mentioned_sn)\n",
        "        if D.has_edge(*my_edge):\n",
        "            D.edges[my_edge]['weight'] += 1\n",
        "        else:\n",
        "            D.add_edge(*my_edge, weight=1)"
      ],
      "execution_count": null,
      "outputs": []
    },
    {
      "cell_type": "markdown",
      "metadata": {
        "id": "E6kCRyxHvS2H"
      },
      "source": [
        "## 7.3 Analyze graph\n"
      ]
    },
    {
      "cell_type": "markdown",
      "metadata": {
        "id": "POlLpNlvsKa8"
      },
      "source": [
        "\n",
        "Now that we have this graph, let's ask some questions about it.\n"
      ]
    },
    {
      "cell_type": "markdown",
      "metadata": {
        "id": "lVFp47K1sMtp"
      },
      "source": [
        "\n",
        "### 7.3.1 Most  popular users\n"
      ]
    },
    {
      "cell_type": "markdown",
      "metadata": {
        "id": "-M0dpdjusNdg"
      },
      "source": [
        "\n",
        "Since these edges are in the direction of attention flow, in-degree gives us the number of other users mentioning a given user. We can get the user with highest in-degree using the built-in `max` function:"
      ]
    },
    {
      "cell_type": "code",
      "metadata": {
        "id": "BccWG-fFvS2H",
        "colab": {
          "base_uri": "https://localhost:8080/",
          "height": 35
        },
        "outputId": "8604226c-5bfb-4e36-8aa6-ba2d50af1b24"
      },
      "source": [
        "max(D.nodes, key=D.in_degree)"
      ],
      "execution_count": null,
      "outputs": [
        {
          "output_type": "execute_result",
          "data": {
            "application/vnd.google.colaboratory.intrinsic+json": {
              "type": "string"
            },
            "text/plain": [
              "'AndAndflix'"
            ]
          },
          "metadata": {},
          "execution_count": 23
        }
      ]
    },
    {
      "cell_type": "markdown",
      "metadata": {
        "id": "8CurZ_rgvS2H"
      },
      "source": [
        "but we can get more context and information from the \"top N\" users:"
      ]
    },
    {
      "cell_type": "code",
      "metadata": {
        "id": "4ssn9eEdvS2H"
      },
      "source": [
        "from operator import itemgetter\n",
        "\n",
        "sorted(D.in_degree(), key=itemgetter(1), reverse=True)[:5]"
      ],
      "execution_count": null,
      "outputs": []
    },
    {
      "cell_type": "markdown",
      "metadata": {
        "id": "XJXO6vWPvS2H"
      },
      "source": [
        "By specifying `weight='weight'` we can instead get the top 5 users by in-strength instead of in-degree:"
      ]
    },
    {
      "cell_type": "code",
      "metadata": {
        "id": "ZHU0kZR3vS2H"
      },
      "source": [
        "sorted(D.in_degree(weight='weight'), key=itemgetter(1), reverse=True)[:5]"
      ],
      "execution_count": null,
      "outputs": []
    },
    {
      "cell_type": "markdown",
      "metadata": {
        "id": "H9evz4hsvS2H"
      },
      "source": [
        "In some cases these two results will be the same, namely if none of these users has been mentioned multiple times by the same user. Depending on your use case, you may or may not wish to take the weights into account.\n"
      ]
    },
    {
      "cell_type": "markdown",
      "metadata": {
        "id": "HeopeYu0sb5f"
      },
      "source": [
        "\n",
        "### 7.3.2 Conversation drivers\n"
      ]
    },
    {
      "cell_type": "markdown",
      "metadata": {
        "id": "2vgSIE0esc1G"
      },
      "source": [
        "\n",
        "A user mentioning many others in a conversation may be \"driving\" the conversation and trying to include others in the dialogue. It could also be spam. Let's see who is doing the most mentioning here:"
      ]
    },
    {
      "cell_type": "code",
      "metadata": {
        "scrolled": true,
        "id": "sNNy8AMTvS2H",
        "colab": {
          "base_uri": "https://localhost:8080/"
        },
        "outputId": "0f4eceb3-4713-4f8d-9465-309a270dd0d9"
      },
      "source": [
        "sorted(D.out_degree(weight='weight'), key=itemgetter(1), reverse=True)[:5]"
      ],
      "execution_count": null,
      "outputs": [
        {
          "output_type": "execute_result",
          "data": {
            "text/plain": [
              "[('cemig_energia', 18),\n",
              " ('greyp47178225', 11),\n",
              " ('BitteNiemand', 8),\n",
              " ('mad13257', 5),\n",
              " ('ZEDEKY', 5)]"
            ]
          },
          "metadata": {},
          "execution_count": 16
        }
      ]
    },
    {
      "cell_type": "markdown",
      "metadata": {
        "id": "Uf3jf8_gvS2I"
      },
      "source": [
        "### 7.3.3 Connectivity\n"
      ]
    },
    {
      "cell_type": "markdown",
      "metadata": {
        "id": "tMOu14cZsnCP"
      },
      "source": [
        "\n",
        "We can ask if the tweets obtained by the search represent one large conversation or many small conversations; broadly speaking, each weakly-connected component represents a conversation."
      ]
    },
    {
      "cell_type": "code",
      "metadata": {
        "id": "qxVQ6vvQvS2I",
        "colab": {
          "base_uri": "https://localhost:8080/"
        },
        "outputId": "791435f4-6e6d-4a8e-d313-bfafd7a7b3e7"
      },
      "source": [
        "nx.is_weakly_connected(D)"
      ],
      "execution_count": null,
      "outputs": [
        {
          "output_type": "execute_result",
          "data": {
            "text/plain": [
              "False"
            ]
          },
          "metadata": {},
          "execution_count": 17
        }
      ]
    },
    {
      "cell_type": "code",
      "metadata": {
        "id": "brsS_z7PvS2I",
        "colab": {
          "base_uri": "https://localhost:8080/"
        },
        "outputId": "6e1124f9-9aa6-43e8-ac65-d4b3c492f253"
      },
      "source": [
        "nx.number_weakly_connected_components(D)"
      ],
      "execution_count": null,
      "outputs": [
        {
          "output_type": "execute_result",
          "data": {
            "text/plain": [
              "60"
            ]
          },
          "metadata": {},
          "execution_count": 18
        }
      ]
    },
    {
      "cell_type": "markdown",
      "metadata": {
        "id": "Pi0V0v_4vS2I"
      },
      "source": [
        "### 7.3.4 Drawing\n"
      ]
    },
    {
      "cell_type": "markdown",
      "metadata": {
        "id": "jNc7vyxxsxKI"
      },
      "source": [
        "\n",
        "We can try to draw this graph with the nodes sized by their in-strength:"
      ]
    },
    {
      "cell_type": "code",
      "metadata": {
        "id": "51mLlrbxvS2I",
        "colab": {
          "base_uri": "https://localhost:8080/",
          "height": 319
        },
        "outputId": "4fbe4a4b-bc36-4d19-d193-0ed1cc797ba6"
      },
      "source": [
        "node_sizes = [D.in_degree(n, weight='weight') * 50 for n in D.nodes]\n",
        "\n",
        "%matplotlib inline\n",
        "nx.draw(D, node_size=node_sizes)"
      ],
      "execution_count": null,
      "outputs": [
        {
          "output_type": "display_data",
          "data": {
            "image/png": "[encoded data removed]",
            "text/plain": [
              "<Figure size 432x288 with 1 Axes>"
            ]
          },
          "metadata": {}
        }
      ]
    },
    {
      "cell_type": "markdown",
      "metadata": {
        "id": "BgBS5J1EvS2I"
      },
      "source": [
        "Note that in this simplistic drawing, nodes with zero in-strength are not drawn on the diagram because their size is 0. This suits us fine; only the users who have been mentioned are drawn here."
      ]
    }
  ]
}